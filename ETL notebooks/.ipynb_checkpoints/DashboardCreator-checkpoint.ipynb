{
 "cells": [
  {
   "cell_type": "markdown",
   "metadata": {},
   "source": [
    "# Lab 11 - Creating web dashboards with Dash library in Python"
   ]
  },
  {
   "cell_type": "markdown",
   "metadata": {},
   "source": [
    "## Reosurces / documentation \n",
    "- [Plotly express](https://plotly.com/python/plotly-express/)\n",
    "- [Dash](https://dash.plotly.com/dash-core-components)\n",
    "- [Youtube tutorial](https://www.youtube.com/watch?v=hSPmj7mK6ng)"
   ]
  },
  {
   "cell_type": "code",
   "execution_count": 1,
   "metadata": {},
   "outputs": [],
   "source": [
    "import plotly.express as px \n",
    "from dash import Dash, dcc, html, Input, Output"
   ]
  },
  {
   "cell_type": "code",
   "execution_count": 2,
   "metadata": {},
   "outputs": [],
   "source": [
    "import matplotlib.pyplot as plt\n",
    "import seaborn as sns\n",
    "import pandas as pd\n",
    "import numpy as np\n",
    "import math"
   ]
  },
  {
   "cell_type": "code",
   "execution_count": 3,
   "metadata": {
    "scrolled": true
   },
   "outputs": [],
   "source": [
    "df = pd.read_csv('Final_Output.csv')\n"
   ]
  },
  {
   "cell_type": "code",
   "execution_count": 4,
   "metadata": {},
   "outputs": [
    {
     "data": {
      "text/plain": [
       "Index(['longitude', 'latitude', 'police_force', 'accident_severity',\n",
       "       'number_of_vehicles', 'number_of_casualties',\n",
       "       'local_authority_district', 'local_authority_ons_district',\n",
       "       'local_authority_highway', 'first_road_number', 'speed_limit',\n",
       "       'second_road_number', 'is_Urban',\n",
       "       'did_police_officer_attend_scene_of_accident', 'trunk_road_flag',\n",
       "       'lsoa_of_accident_location', 'Week number', 'first_road_class_A',\n",
       "       'first_road_class_A(M)', 'first_road_class_B', 'first_road_class_C',\n",
       "       'first_road_class_Motorway', 'second_road_class_A',\n",
       "       'second_road_class_A(M)', 'second_road_class_B', 'second_road_class_C',\n",
       "       'second_road_class_Motorway', 'second_road_class_Unclassified',\n",
       "       'day_of_week_Monday', 'day_of_week_Saturday', 'day_of_week_Sunday',\n",
       "       'day_of_week_Thursday', 'day_of_week_Tuesday', 'day_of_week_Wednesday',\n",
       "       'road_surface_conditions_Flood over 3cm. deep',\n",
       "       'road_surface_conditions_Frost or ice', 'road_surface_conditions_Snow',\n",
       "       'road_surface_conditions_Wet or damp', 'road_type_One way street',\n",
       "       'road_type_Roundabout', 'road_type_Single carriageway',\n",
       "       'road_type_Slip road', 'light_conditions_Darkness - lights lit',\n",
       "       'light_conditions_Darkness - lights unlit',\n",
       "       'light_conditions_Darkness - no lighting',\n",
       "       'weather_conditions_Fine + high winds',\n",
       "       'weather_conditions_Fine no high winds',\n",
       "       'weather_conditions_Fog or mist',\n",
       "       'weather_conditions_Raining + high winds',\n",
       "       'weather_conditions_Raining no high winds',\n",
       "       'weather_conditions_Snowing + high winds',\n",
       "       'weather_conditions_Snowing no high winds',\n",
       "       'junction_detail_Crossroads', 'junction_detail_Mini-roundabout',\n",
       "       'junction_detail_More than 4 arms (not roundabout)',\n",
       "       'junction_detail_Not at junction or within 20 metres',\n",
       "       'junction_detail_Private drive or entrance',\n",
       "       'junction_detail_Roundabout', 'junction_detail_Slip road',\n",
       "       'junction_detail_T or staggered junction',\n",
       "       'junction_control_Authorised person',\n",
       "       'junction_control_Auto traffic signal',\n",
       "       'junction_control_Give way or uncontrolled',\n",
       "       'junction_control_Stop sign',\n",
       "       'pedestrian_crossing_human_control_Control by other authorised person',\n",
       "       'pedestrian_crossing_human_control_Control by school crossing patrol',\n",
       "       'pedestrian_crossing_physical_facilities_Central refuge',\n",
       "       'pedestrian_crossing_physical_facilities_Footbridge or subway',\n",
       "       'pedestrian_crossing_physical_facilities_Pedestrian phase at traffic signal junction',\n",
       "       'pedestrian_crossing_physical_facilities_Pelican, puffin, toucan or similar non-junction pedestrian light crossing',\n",
       "       'pedestrian_crossing_physical_facilities_Zebra',\n",
       "       'special_conditions_at_site_Auto signal part defective',\n",
       "       'special_conditions_at_site_Auto traffic signal - out',\n",
       "       'special_conditions_at_site_Mud',\n",
       "       'special_conditions_at_site_Oil or diesel',\n",
       "       'special_conditions_at_site_Road sign or marking defective or obscured',\n",
       "       'special_conditions_at_site_Road surface defective',\n",
       "       'special_conditions_at_site_Roadworks',\n",
       "       'carriageway_hazards_Any animal in carriageway (except ridden horse)',\n",
       "       'carriageway_hazards_Other object on road',\n",
       "       'carriageway_hazards_Pedestrian in carriageway - not injured',\n",
       "       'carriageway_hazards_Previous accident',\n",
       "       'carriageway_hazards_Vehicle load on road', 'is_Weekend',\n",
       "       'is_Dark_and_Raining', 'Month', 'Day', 'Hour', 'Minutes'],\n",
       "      dtype='object')"
      ]
     },
     "execution_count": 4,
     "metadata": {},
     "output_type": "execute_result"
    }
   ],
   "source": [
    "df.columns"
   ]
  },
  {
   "cell_type": "code",
   "execution_count": 5,
   "metadata": {},
   "outputs": [],
   "source": [
    "def reverse_encode(df,column_name,look_up_table_df):\n",
    "    df_look_table_column = look_up_table_df[look_up_table_df['column_name']==column_name]\n",
    "    df_look_table_column.drop('column_name',axis =1,inplace=True)\n",
    "    mapping_dict = dict()\n",
    "    for index,row in df_look_table_column.iterrows():\n",
    "        mapping_dict[row['Encoding']] = row['Value']\n",
    "    print(df[column_name].replace(mapping_dict))\n",
    "    df[column_name] = df[column_name].replace(mapping_dict)"
   ]
  },
  {
   "cell_type": "code",
   "execution_count": 6,
   "metadata": {
    "scrolled": true
   },
   "outputs": [
    {
     "name": "stderr",
     "output_type": "stream",
     "text": [
      "C:\\Users\\micoa\\AppData\\Local\\Temp\\ipykernel_30864\\1802618758.py:3: SettingWithCopyWarning: \n",
      "A value is trying to be set on a copy of a slice from a DataFrame\n",
      "\n",
      "See the caveats in the documentation: https://pandas.pydata.org/pandas-docs/stable/user_guide/indexing.html#returning-a-view-versus-a-copy\n",
      "  df_look_table_column.drop('column_name',axis =1,inplace=True)\n"
     ]
    },
    {
     "name": "stdout",
     "output_type": "stream",
     "text": [
      "0         Kensington and Chelsea\n",
      "1         Kensington and Chelsea\n",
      "2         Kensington and Chelsea\n",
      "3         Kensington and Chelsea\n",
      "4         Kensington and Chelsea\n",
      "                   ...          \n",
      "149260     Dumfries and Galloway\n",
      "149261     Dumfries and Galloway\n",
      "149262     Dumfries and Galloway\n",
      "149263     Dumfries and Galloway\n",
      "149264     Dumfries and Galloway\n",
      "Name: local_authority_ons_district, Length: 149265, dtype: object\n",
      "0          Slight\n",
      "1         Serious\n",
      "2          Slight\n",
      "3          Slight\n",
      "4          Slight\n",
      "           ...   \n",
      "149260     Slight\n",
      "149261    Serious\n",
      "149262     Slight\n",
      "149263     Slight\n",
      "149264     Slight\n",
      "Name: accident_severity, Length: 149265, dtype: object\n",
      "0         30.0\n",
      "1         30.0\n",
      "2         30.0\n",
      "3         30.0\n",
      "4         30.0\n",
      "          ... \n",
      "149260    70.0\n",
      "149261    60.0\n",
      "149262    70.0\n",
      "149263    60.0\n",
      "149264    60.0\n",
      "Name: speed_limit, Length: 149265, dtype: object\n"
     ]
    },
    {
     "name": "stderr",
     "output_type": "stream",
     "text": [
      "C:\\Users\\micoa\\AppData\\Local\\Temp\\ipykernel_30864\\1802618758.py:3: SettingWithCopyWarning: \n",
      "A value is trying to be set on a copy of a slice from a DataFrame\n",
      "\n",
      "See the caveats in the documentation: https://pandas.pydata.org/pandas-docs/stable/user_guide/indexing.html#returning-a-view-versus-a-copy\n",
      "  df_look_table_column.drop('column_name',axis =1,inplace=True)\n",
      "C:\\Users\\micoa\\AppData\\Local\\Temp\\ipykernel_30864\\1802618758.py:3: SettingWithCopyWarning: \n",
      "A value is trying to be set on a copy of a slice from a DataFrame\n",
      "\n",
      "See the caveats in the documentation: https://pandas.pydata.org/pandas-docs/stable/user_guide/indexing.html#returning-a-view-versus-a-copy\n",
      "  df_look_table_column.drop('column_name',axis =1,inplace=True)\n"
     ]
    }
   ],
   "source": []
  },
  {
   "cell_type": "code",
   "execution_count": 7,
   "metadata": {},
   "outputs": [
    {
     "data": {
      "text/plain": [
       "pandas.core.series.Series"
      ]
     },
     "execution_count": 7,
     "metadata": {},
     "output_type": "execute_result"
    }
   ],
   "source": [
    "class_series = df.groupby('Month').size()\n",
    "type(class_series)"
   ]
  },
  {
   "cell_type": "code",
   "execution_count": 8,
   "metadata": {},
   "outputs": [],
   "source": [
    "def LineChart(df):\n",
    "    class_series = df.groupby('Month').size()\n",
    "    fig = px.line( x=class_series.index, y=class_series)\n",
    "    fig.update_layout(xaxis_title=\"Month\", yaxis_title=\"Number of Accidents\" )\n",
    "    return fig\n",
    "def histogram(df):\n",
    "    filter_col = [col for col in df if col.startswith('day_of_week')]\n",
    "    dow = df[filter_col]\n",
    "    dow.columns = dow.columns.str.lstrip(\"weather_conditions_\")\n",
    "    dow = dow.idxmax(axis = 1)\n",
    "    df['day_of_week'] =dow\n",
    "    fig = px.histogram(df, x=\"day_of_week\")\n",
    "    fig.update_xaxes(categoryorder = \"total descending\")\n",
    "    #fig.update_xaxes(tickangle=90)\n",
    "    return fig\n",
    "def weatherbar(df):\n",
    "    filter_col = [col for col in df if col.startswith('weather_conditions')]\n",
    "    dfweather = df[filter_col]\n",
    "    dfweather.columns = dfweather.columns.str.lstrip(\"weather_conditions_\")\n",
    "    dfweather = dfweather.idxmax(axis = 1)\n",
    "    df['weather_conditions'] =dfweather\n",
    "    fig = px.histogram(df, x=\"weather_conditions\")\n",
    "    fig.update_xaxes(categoryorder = \"total descending\")\n",
    "    return fig\n",
    "def top10districts(df):\n",
    "    \n",
    "    dfg = pd.DataFrame(df['local_authority_ons_district'].value_counts()[:10].sort_values(ascending=False))\n",
    "    dfg.columns =['local_authority_ons_district']\n",
    "    fig = px.bar(dfg,x=dfg.index,y='local_authority_ons_district')\n",
    "    fig.update_xaxes(categoryorder = \"total descending\")\n",
    "    fig.update_layout(xaxis_title=\"Local Authority District\", yaxis_title=\"Number of Accidents\" )\n",
    "    return fig\n",
    "def speedLimit(df):\n",
    "    x,y =  'speed_limit','accident_severity'\n",
    "    dfg = df.groupby(x)[y].value_counts(normalize=True).loc[:,\"Fatal\"].mul(100).rename('percent').reset_index()\n",
    "    fig = px.bar(dfg,x=x,y='percent')\n",
    "    return fig"
   ]
  },
  {
   "cell_type": "code",
   "execution_count": 9,
   "metadata": {
    "scrolled": true
   },
   "outputs": [],
   "source": [
    "def createDashboard(filename,look_up_table_filename):\n",
    "    df = pd.read_csv(filename)\n",
    "    look_up_table = pd.read_csv(look_up_table_filename)\n",
    "    reverse_encode(df,'local_authority_ons_district',look_up_table)\n",
    "    reverse_encode(df,'accident_severity',look_up_table)\n",
    "    reverse_encode(df,'speed_limit',look_up_table)\n",
    "    app = Dash()\n",
    "    app.layout = html.Div([\n",
    "        html.H1(\"UK Accidents Dashboard\", style={'text-align': 'center'}),\n",
    "        html.Br(),\n",
    "        html.H1(\"2011 Dataset \", style={'text-align': 'center'}),\n",
    "        html.Br(),\n",
    "        html.Div(),\n",
    "        html.H1(\"Accidents Against Time\", style={'text-align': 'center'}),\n",
    "        dcc.Graph(figure=LineChart(df)),\n",
    "        html.Br(),\n",
    "        html.Div(),\n",
    "        html.H1(\"Accidents Against Day of Week\", style={'text-align': 'center'}),\n",
    "        dcc.Graph(figure=histogram(df)),\n",
    "        html.H1(\"Accidents Against Weather Conditions\", style={'text-align': 'center'}),\n",
    "        dcc.Graph(figure=weatherbar(df)),\n",
    "        html.H1(\"Top 10 Most Dangerous Local Authority Districts\", style={'text-align': 'center'}),\n",
    "        dcc.Graph(figure=top10districts(df)),\n",
    "        html.H1(\"Speed Limit Against Fatal Accidents Percentage\", style={'text-align': 'center'}),\n",
    "        dcc.Graph(figure=speedLimit(df))\n",
    "    ])\n",
    "    app.run_server(host = \"0.0.0.0\")"
   ]
  },
  {
   "cell_type": "code",
   "execution_count": null,
   "metadata": {},
   "outputs": [],
   "source": []
  }
 ],
 "metadata": {
  "kernelspec": {
   "display_name": "Python 3 (ipykernel)",
   "language": "python",
   "name": "python3"
  },
  "language_info": {
   "codemirror_mode": {
    "name": "ipython",
    "version": 3
   },
   "file_extension": ".py",
   "mimetype": "text/x-python",
   "name": "python",
   "nbconvert_exporter": "python",
   "pygments_lexer": "ipython3",
   "version": "3.9.15"
  }
 },
 "nbformat": 4,
 "nbformat_minor": 4
}
