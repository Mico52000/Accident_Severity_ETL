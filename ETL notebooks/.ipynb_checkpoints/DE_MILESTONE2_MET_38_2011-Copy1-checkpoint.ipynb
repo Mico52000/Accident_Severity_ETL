{
 "cells": [
  {
   "cell_type": "code",
   "execution_count": 1,
   "id": "c4fe1ecc",
   "metadata": {},
   "outputs": [],
   "source": [
    "import pandas as pd\n",
    "import numpy as np\n",
    "from scipy import stats\n",
    "from sklearn import preprocessing\n",
    "from sklearn.preprocessing import MinMaxScaler\n"
   ]
  },
  {
   "cell_type": "code",
   "execution_count": 2,
   "id": "e293c734",
   "metadata": {
    "scrolled": false
   },
   "outputs": [],
   "source": [
    "df_lsao = pd.read_csv('imd_eng.csv',encoding= 'unicode_escape')\n",
    "\n"
   ]
  },
  {
   "cell_type": "code",
   "execution_count": 3,
   "id": "f0f6c5eb",
   "metadata": {
    "scrolled": false
   },
   "outputs": [],
   "source": [
    "df_lsao = df_lsao[['lsoacode','edust_rank']]\n",
    "df_lsao['lsoacode'] = df_lsao['lsoacode'].astype(str)\n"
   ]
  },
  {
   "cell_type": "code",
   "execution_count": 4,
   "id": "a715ce34",
   "metadata": {
    "scrolled": false
   },
   "outputs": [],
   "source": [
    "df_lsao_wales = pd.read_csv('WIMD_Ranks.csv')\n",
    "df_lsao_wales = df_lsao_wales[['Local Area (2011 LSOA)','Education']]\n",
    "df_lsao_wales.rename(columns = {'Local Area (2011 LSOA)':'lsoacode','Education':'edust_rank'}, inplace = True)\n"
   ]
  },
  {
   "cell_type": "code",
   "execution_count": 5,
   "id": "2a09130f",
   "metadata": {
    "scrolled": true
   },
   "outputs": [],
   "source": [
    "df_lsao = pd.concat([df_lsao,df_lsao_wales],axis=0)\n"
   ]
  },
  {
   "cell_type": "code",
   "execution_count": 6,
   "id": "7246ab62",
   "metadata": {},
   "outputs": [],
   "source": [
    "def reverse_encode(df,column_name,look_up_table_df):\n",
    "    df_look_table_column = look_up_table_df[look_up_table_df['column_name']==column_name]\n",
    "    df_look_table_column.drop('column_name',axis =1,inplace=True)\n",
    "    mapping_dict = dict()\n",
    "    for index,row in df_look_table_column.iterrows():\n",
    "        mapping_dict[row['Encoding']] = row['Value']\n",
    "    ##print(df[column_name].replace(mapping_dict))\n",
    "    df[column_name] = df[column_name].replace(mapping_dict)\n",
    "    "
   ]
  },
  {
   "cell_type": "code",
   "execution_count": 7,
   "id": "42f9132b",
   "metadata": {
    "scrolled": false
   },
   "outputs": [
    {
     "name": "stderr",
     "output_type": "stream",
     "text": [
      "C:\\Users\\micoa\\AppData\\Local\\Temp\\ipykernel_6208\\1847934231.py:3: SettingWithCopyWarning: \n",
      "A value is trying to be set on a copy of a slice from a DataFrame\n",
      "\n",
      "See the caveats in the documentation: https://pandas.pydata.org/pandas-docs/stable/user_guide/indexing.html#returning-a-view-versus-a-copy\n",
      "  df_look_up_lsoa.drop('column_name',axis =1,inplace=True)\n",
      "C:\\Users\\micoa\\AppData\\Local\\Temp\\ipykernel_6208\\1847934231.py:4: SettingWithCopyWarning: \n",
      "A value is trying to be set on a copy of a slice from a DataFrame.\n",
      "Try using .loc[row_indexer,col_indexer] = value instead\n",
      "\n",
      "See the caveats in the documentation: https://pandas.pydata.org/pandas-docs/stable/user_guide/indexing.html#returning-a-view-versus-a-copy\n",
      "  df_look_up_lsoa['Value'] = df_look_up_lsoa['Value'].astype(str)\n"
     ]
    }
   ],
   "source": [
    "df_look_up = pd.read_csv('look_up_table.csv')\n",
    "df_look_up_lsoa = df_look_up[df_look_up['column_name']=='lsoa_of_accident_location']\n",
    "df_look_up_lsoa.drop('column_name',axis =1,inplace=True)\n",
    "df_look_up_lsoa['Value'] = df_look_up_lsoa['Value'].astype(str)\n"
   ]
  },
  {
   "cell_type": "code",
   "execution_count": 8,
   "id": "896cf82b",
   "metadata": {},
   "outputs": [],
   "source": [
    "mapping_dict = dict()\n",
    "for index,row in df_look_up_lsoa.iterrows():\n",
    "    mapping_dict[row['Value']] = row['Encoding']\n"
   ]
  },
  {
   "cell_type": "markdown",
   "id": "f23fa651",
   "metadata": {},
   "source": [
    "## After retrieving all LSOA data available for both England and Wales, we still have 42 LSOA values whose data is not available."
   ]
  },
  {
   "cell_type": "code",
   "execution_count": 9,
   "id": "4b0f9047",
   "metadata": {},
   "outputs": [],
   "source": [
    "lsao_values = df_look_up_lsoa['Value'].unique()\n",
    "df_lsao = df_lsao[df_lsao['lsoacode'].isin(lsao_values)]\n",
    "df_lsao.rename(columns = {'edust_rank':'Education_Deprivation_Score'}, inplace = True)\n",
    "df_lsao['lsoa_of_accident_location'] = df_lsao[\"lsoacode\"].replace(mapping_dict)\n",
    "df_education_index = df_lsao.drop('lsoacode',axis =1)\n"
   ]
  },
  {
   "cell_type": "code",
   "execution_count": 10,
   "id": "d5edc27d",
   "metadata": {
    "scrolled": false
   },
   "outputs": [],
   "source": [
    "df_accidents = pd.read_csv('Final_Output.csv')\n"
   ]
  },
  {
   "cell_type": "markdown",
   "id": "f412e6f0",
   "metadata": {},
   "source": [
    "### As discussed above, we have 42 LSOA values not available to us in the public datasets we were able to retrieve, this leads to 328 rows having missing values for the newly added column. since the rows with missing values acount for less than 1% of the dataset, we will opt to remove these rows. This will automatically be done by using inner join."
   ]
  },
  {
   "cell_type": "code",
   "execution_count": 11,
   "id": "d4174ef1",
   "metadata": {},
   "outputs": [],
   "source": [
    "df_accidents_augmented =df_accidents.merge(df_education_index,how ='inner')"
   ]
  },
  {
   "cell_type": "code",
   "execution_count": 12,
   "id": "17e5cb46",
   "metadata": {
    "scrolled": true
   },
   "outputs": [],
   "source": [
    "\n",
    "df_accidents_augmented['Education_level'] = pd.cut(df_accidents_augmented['Education_Deprivation_Score'], 4,\\\n",
    "                            labels = ['Highly Deprived','Deprived','Educated','Highly Educated'])    \n",
    "\n"
   ]
  },
  {
   "cell_type": "code",
   "execution_count": 13,
   "id": "1a3d4b86",
   "metadata": {},
   "outputs": [],
   "source": [
    "df_accidents_augmented_analysis = df_accidents_augmented.copy()"
   ]
  },
  {
   "cell_type": "code",
   "execution_count": 14,
   "id": "3bf9fb48",
   "metadata": {},
   "outputs": [
    {
     "name": "stdout",
     "output_type": "stream",
     "text": [
      "0          Slight\n",
      "1         Serious\n",
      "2          Slight\n",
      "3          Slight\n",
      "4          Slight\n",
      "           ...   \n",
      "148932     Slight\n",
      "148933     Slight\n",
      "148934     Slight\n",
      "148935     Slight\n",
      "148936     Slight\n",
      "Name: accident_severity, Length: 148937, dtype: object\n"
     ]
    },
    {
     "name": "stderr",
     "output_type": "stream",
     "text": [
      "C:\\Users\\micoa\\AppData\\Local\\Temp\\ipykernel_6208\\2514376080.py:3: SettingWithCopyWarning: \n",
      "A value is trying to be set on a copy of a slice from a DataFrame\n",
      "\n",
      "See the caveats in the documentation: https://pandas.pydata.org/pandas-docs/stable/user_guide/indexing.html#returning-a-view-versus-a-copy\n",
      "  df_look_table_column.drop('column_name',axis =1,inplace=True)\n"
     ]
    }
   ],
   "source": [
    "reverse_encode(df_accidents_augmented_analysis,'accident_severity',df_look_up)"
   ]
  },
  {
   "cell_type": "markdown",
   "id": "c1c07a38",
   "metadata": {},
   "source": [
    "## scaling the new column"
   ]
  },
  {
   "cell_type": "markdown",
   "id": "76db8b83",
   "metadata": {},
   "source": [
    "## Feature Scaling "
   ]
  },
  {
   "cell_type": "code",
   "execution_count": 15,
   "id": "b0eba8db",
   "metadata": {},
   "outputs": [],
   "source": [
    "# For min_max scaling\n",
    "\n",
    "education_score_scaled = MinMaxScaler().fit_transform(df_accidents_augmented[['Education_Deprivation_Score']]) \n",
    "df_accidents_augmented['Education_Deprivation_Score'] = education_score_scaled"
   ]
  },
  {
   "cell_type": "code",
   "execution_count": 16,
   "id": "cc28849b",
   "metadata": {},
   "outputs": [],
   "source": [
    "def LabelEncode(dataframe,column_name,mapping={}):\n",
    "    le_namemapping ={}\n",
    "    look_up = {}\n",
    "    df = dataframe.copy()\n",
    "    if(len(mapping)!=0):\n",
    "        df[column_name] = df[column_name].map(mapping)\n",
    "        look_up = {\n",
    "            'column_name': column_name,\n",
    "            'Value': mapping.keys(),\n",
    "            'Encoding': mapping.values()\n",
    "        }\n",
    "    else:\n",
    "        le = preprocessing.LabelEncoder()\n",
    "        le.fit(df[column_name])\n",
    "        \n",
    "        le_namemapping = dict(zip(le.classes_, le.transform(le.classes_)))\n",
    "        look_up = {\n",
    "            'column_name': column_name,\n",
    "            'Value': le.classes_ ,\n",
    "            'Encoding': le.transform(le.classes_)\n",
    "        }\n",
    "        df[column_name] = df[column_name].map(le_namemapping)\n",
    "    look_up = pd.DataFrame(look_up)\n",
    "    return df,look_up  "
   ]
  },
  {
   "cell_type": "code",
   "execution_count": 17,
   "id": "eb4a8684",
   "metadata": {},
   "outputs": [
    {
     "data": {
      "text/plain": [
       "2    39652\n",
       "1    38203\n",
       "3    35904\n",
       "4    35178\n",
       "Name: Education_level, dtype: int64"
      ]
     },
     "execution_count": 17,
     "metadata": {},
     "output_type": "execute_result"
    }
   ],
   "source": [
    "mappings = {\n",
    "        'Highly Deprived':1,\n",
    "        'Deprived':2,\n",
    "        'Educated':3,\n",
    "        'Highly Educated':4\n",
    "    }\n",
    "\n",
    "df_accidents_augmented,mappings = LabelEncode(df_accidents_augmented,'Education_level',mappings)\n"
   ]
  },
  {
   "cell_type": "code",
   "execution_count": 18,
   "id": "4c8a85a6",
   "metadata": {},
   "outputs": [],
   "source": [
    "df_look_up = pd.concat([df_look_up,mappings],axis = 0)\n"
   ]
  },
  {
   "cell_type": "code",
   "execution_count": 19,
   "id": "e77feff5",
   "metadata": {},
   "outputs": [],
   "source": [
    "df_look_up.to_csv('look_up_table.csv',index=False)\n",
    "df_accidents_augmented.to_csv(\"cleaned_transformed_augmented.csv\",index=False)"
   ]
  }
 ],
 "metadata": {
  "kernelspec": {
   "display_name": "Python 3 (ipykernel)",
   "language": "python",
   "name": "python3"
  },
  "language_info": {
   "codemirror_mode": {
    "name": "ipython",
    "version": 3
   },
   "file_extension": ".py",
   "mimetype": "text/x-python",
   "name": "python",
   "nbconvert_exporter": "python",
   "pygments_lexer": "ipython3",
   "version": "3.9.15"
  }
 },
 "nbformat": 4,
 "nbformat_minor": 5
}
