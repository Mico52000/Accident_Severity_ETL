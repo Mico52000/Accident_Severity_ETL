{
 "cells": [
  {
   "cell_type": "markdown",
   "metadata": {},
   "source": [
    "# Milestone 1 - EDA and Preprocessing data "
   ]
  },
  {
   "cell_type": "markdown",
   "metadata": {},
   "source": [
    "- Load dataset\n",
    "- Explore the dataset and ask atleast 5 questions to give you a better understanding of the data provided to you. \n",
    "- Visualise the answer to these 5 questions.\n",
    "- Cleaing the data\n",
    "- Observe missing data and comment on why you believe it is missing(MCAR,MAR or MNAR) \n",
    "- Observe duplicate data\n",
    "- Observe outliers\n",
    "- After observing outliers,missing data and duplicates, handle any unclean data.\n",
    "- With every change you are making to the data you need to comment on why you used this technique and how has it affected the data(by both showing the change in the data i.e change in number of rows/columns,change in distrubution, etc and commenting on it).\n",
    "- Data transformation and feature engineering\n",
    "- Add a new column named 'Week number' and discretisize the data into weeks according to the dates.Tip: Change the datatype of the date feature to datetime type instead of object.\n",
    "- Encode any categorical feature(s) and comment on why you used this technique and how the data has changed.\n",
    "- Identify feature(s) which need normalisation and show your reasoning.Then choose a technique to normalise the feature(s) and comment on why you chose this technique.\n",
    "- Add atleast two more columns which adds more info to the dataset by evaluating specific feature(s). I.E( Column indicating whether the accident was on a weekend or not). \n",
    "- For any imputation with arbitrary values or encoding done, you have to store what the value imputed or encoded represents in a new csv file. I.e if you impute a missing value with -1 or 100 you must have a csv file illustrating what -1 and 100 means. Or for instance, if you encode cities with 1,2,3,4,etc what each number represents must be shown in the new csv file.\n",
    "- Load the new dataset into a csv file.\n",
    "- **Extremely Important note** - Your code should be as generic as possible and not hard-coded and be able to work with various datasets. Any hard-coded solutions will be severely penalised.\n",
    "- Bonus: Load the dataset as a parquet file instead of a csv file(Parquet file is a compressed file format)."
   ]
  },
  {
   "cell_type": "markdown",
   "metadata": {},
   "source": [
    "# 1 - Extraction"
   ]
  },
  {
   "cell_type": "code",
   "execution_count": 1748,
   "metadata": {},
   "outputs": [],
   "source": [
    "import pandas as pd\n",
    "import numpy as np\n",
    "import matplotlib.pyplot as plt\n",
    "import seaborn as sns\n",
    "from scipy import stats\n",
    "from sklearn import preprocessing\n",
    "pd.set_option('display.max_columns', None)\n",
    "# pd.set_option('display.max_rows', None)\n"
   ]
  },
  {
   "cell_type": "code",
   "execution_count": 1749,
   "metadata": {},
   "outputs": [],
   "source": [
    "import warnings\n",
    "warnings.filterwarnings('ignore')"
   ]
  },
  {
   "cell_type": "code",
   "execution_count": 1750,
   "metadata": {},
   "outputs": [],
   "source": [
    "file_accidents = \"2011_Accidents_UK.csv\" "
   ]
  },
  {
   "cell_type": "code",
   "execution_count": 1751,
   "metadata": {},
   "outputs": [],
   "source": [
    "df_accidents = pd.read_csv(file_accidents,index_col=0)"
   ]
  },
  {
   "cell_type": "code",
   "execution_count": 1752,
   "metadata": {
    "scrolled": true
   },
   "outputs": [
    {
     "data": {
      "text/html": [
       "<div>\n",
       "<style scoped>\n",
       "    .dataframe tbody tr th:only-of-type {\n",
       "        vertical-align: middle;\n",
       "    }\n",
       "\n",
       "    .dataframe tbody tr th {\n",
       "        vertical-align: top;\n",
       "    }\n",
       "\n",
       "    .dataframe thead th {\n",
       "        text-align: right;\n",
       "    }\n",
       "</style>\n",
       "<table border=\"1\" class=\"dataframe\">\n",
       "  <thead>\n",
       "    <tr style=\"text-align: right;\">\n",
       "      <th></th>\n",
       "      <th>accident_year</th>\n",
       "      <th>accident_reference</th>\n",
       "      <th>location_easting_osgr</th>\n",
       "      <th>location_northing_osgr</th>\n",
       "      <th>longitude</th>\n",
       "      <th>latitude</th>\n",
       "      <th>police_force</th>\n",
       "      <th>accident_severity</th>\n",
       "      <th>number_of_vehicles</th>\n",
       "      <th>number_of_casualties</th>\n",
       "      <th>date</th>\n",
       "      <th>day_of_week</th>\n",
       "      <th>time</th>\n",
       "      <th>local_authority_district</th>\n",
       "      <th>local_authority_ons_district</th>\n",
       "      <th>local_authority_highway</th>\n",
       "      <th>first_road_class</th>\n",
       "      <th>first_road_number</th>\n",
       "      <th>road_type</th>\n",
       "      <th>speed_limit</th>\n",
       "      <th>junction_detail</th>\n",
       "      <th>junction_control</th>\n",
       "      <th>second_road_class</th>\n",
       "      <th>second_road_number</th>\n",
       "      <th>pedestrian_crossing_human_control</th>\n",
       "      <th>pedestrian_crossing_physical_facilities</th>\n",
       "      <th>light_conditions</th>\n",
       "      <th>weather_conditions</th>\n",
       "      <th>road_surface_conditions</th>\n",
       "      <th>special_conditions_at_site</th>\n",
       "      <th>carriageway_hazards</th>\n",
       "      <th>urban_or_rural_area</th>\n",
       "      <th>did_police_officer_attend_scene_of_accident</th>\n",
       "      <th>trunk_road_flag</th>\n",
       "      <th>lsoa_of_accident_location</th>\n",
       "    </tr>\n",
       "    <tr>\n",
       "      <th>accident_index</th>\n",
       "      <th></th>\n",
       "      <th></th>\n",
       "      <th></th>\n",
       "      <th></th>\n",
       "      <th></th>\n",
       "      <th></th>\n",
       "      <th></th>\n",
       "      <th></th>\n",
       "      <th></th>\n",
       "      <th></th>\n",
       "      <th></th>\n",
       "      <th></th>\n",
       "      <th></th>\n",
       "      <th></th>\n",
       "      <th></th>\n",
       "      <th></th>\n",
       "      <th></th>\n",
       "      <th></th>\n",
       "      <th></th>\n",
       "      <th></th>\n",
       "      <th></th>\n",
       "      <th></th>\n",
       "      <th></th>\n",
       "      <th></th>\n",
       "      <th></th>\n",
       "      <th></th>\n",
       "      <th></th>\n",
       "      <th></th>\n",
       "      <th></th>\n",
       "      <th></th>\n",
       "      <th></th>\n",
       "      <th></th>\n",
       "      <th></th>\n",
       "      <th></th>\n",
       "      <th></th>\n",
       "    </tr>\n",
       "  </thead>\n",
       "  <tbody>\n",
       "    <tr>\n",
       "      <th>201101BS70001</th>\n",
       "      <td>2011</td>\n",
       "      <td>01BS70001</td>\n",
       "      <td>525590.0</td>\n",
       "      <td>178980.0</td>\n",
       "      <td>-0.192203</td>\n",
       "      <td>51.495766</td>\n",
       "      <td>Metropolitan Police</td>\n",
       "      <td>Slight</td>\n",
       "      <td>1</td>\n",
       "      <td>1</td>\n",
       "      <td>13/01/2011</td>\n",
       "      <td>Thursday</td>\n",
       "      <td>16:54</td>\n",
       "      <td>Kensington and Chelsea</td>\n",
       "      <td>Kensington and Chelsea</td>\n",
       "      <td>Kensington and Chelsea</td>\n",
       "      <td>C</td>\n",
       "      <td>first_road_class is C or Unclassified. These r...</td>\n",
       "      <td>Single carriageway</td>\n",
       "      <td>30.0</td>\n",
       "      <td>Crossroads</td>\n",
       "      <td>Give way or uncontrolled</td>\n",
       "      <td>Unclassified</td>\n",
       "      <td>first_road_class is C or Unclassified. These r...</td>\n",
       "      <td>None within 50 metres</td>\n",
       "      <td>No physical crossing facilities within 50 metres</td>\n",
       "      <td>Darkness - lights lit</td>\n",
       "      <td>Raining no high winds</td>\n",
       "      <td>Wet or damp</td>\n",
       "      <td>None</td>\n",
       "      <td>None</td>\n",
       "      <td>Urban</td>\n",
       "      <td>Yes</td>\n",
       "      <td>Non-trunk</td>\n",
       "      <td>E01002812</td>\n",
       "    </tr>\n",
       "    <tr>\n",
       "      <th>201101BS70002</th>\n",
       "      <td>2011</td>\n",
       "      <td>01BS70002</td>\n",
       "      <td>527450.0</td>\n",
       "      <td>179020.0</td>\n",
       "      <td>-0.165408</td>\n",
       "      <td>51.495710</td>\n",
       "      <td>Metropolitan Police</td>\n",
       "      <td>Serious</td>\n",
       "      <td>2</td>\n",
       "      <td>1</td>\n",
       "      <td>11/01/2011</td>\n",
       "      <td>Tuesday</td>\n",
       "      <td>19:45</td>\n",
       "      <td>Kensington and Chelsea</td>\n",
       "      <td>Kensington and Chelsea</td>\n",
       "      <td>Kensington and Chelsea</td>\n",
       "      <td>C</td>\n",
       "      <td>first_road_class is C or Unclassified. These r...</td>\n",
       "      <td>Single carriageway</td>\n",
       "      <td>30.0</td>\n",
       "      <td>T or staggered junction</td>\n",
       "      <td>Give way or uncontrolled</td>\n",
       "      <td>Unclassified</td>\n",
       "      <td>first_road_class is C or Unclassified. These r...</td>\n",
       "      <td>None within 50 metres</td>\n",
       "      <td>No physical crossing facilities within 50 metres</td>\n",
       "      <td>Darkness - lights lit</td>\n",
       "      <td>Fine no high winds</td>\n",
       "      <td>Wet or damp</td>\n",
       "      <td>None</td>\n",
       "      <td>None</td>\n",
       "      <td>Urban</td>\n",
       "      <td>Yes</td>\n",
       "      <td>Non-trunk</td>\n",
       "      <td>E01002819</td>\n",
       "    </tr>\n",
       "    <tr>\n",
       "      <th>201101BS70003</th>\n",
       "      <td>2011</td>\n",
       "      <td>01BS70003</td>\n",
       "      <td>527120.0</td>\n",
       "      <td>178350.0</td>\n",
       "      <td>-0.170401</td>\n",
       "      <td>51.489763</td>\n",
       "      <td>Metropolitan Police</td>\n",
       "      <td>Slight</td>\n",
       "      <td>1</td>\n",
       "      <td>1</td>\n",
       "      <td>19/01/2011</td>\n",
       "      <td>Wednesday</td>\n",
       "      <td>17:30</td>\n",
       "      <td>Kensington and Chelsea</td>\n",
       "      <td>Kensington and Chelsea</td>\n",
       "      <td>Kensington and Chelsea</td>\n",
       "      <td>B</td>\n",
       "      <td>304</td>\n",
       "      <td>Single carriageway</td>\n",
       "      <td>30.0</td>\n",
       "      <td>Not at junction or within 20 metres</td>\n",
       "      <td>Data missing or out of range</td>\n",
       "      <td>-1</td>\n",
       "      <td>NaN</td>\n",
       "      <td>None within 50 metres</td>\n",
       "      <td>No physical crossing facilities within 50 metres</td>\n",
       "      <td>Darkness - lights lit</td>\n",
       "      <td>Fine no high winds</td>\n",
       "      <td>Dry</td>\n",
       "      <td>None</td>\n",
       "      <td>None</td>\n",
       "      <td>Urban</td>\n",
       "      <td>Yes</td>\n",
       "      <td>Non-trunk</td>\n",
       "      <td>E01002914</td>\n",
       "    </tr>\n",
       "    <tr>\n",
       "      <th>201101BS70005</th>\n",
       "      <td>2011</td>\n",
       "      <td>01BS70005</td>\n",
       "      <td>525400.0</td>\n",
       "      <td>179210.0</td>\n",
       "      <td>-0.194856</td>\n",
       "      <td>51.497875</td>\n",
       "      <td>Metropolitan Police</td>\n",
       "      <td>Slight</td>\n",
       "      <td>2</td>\n",
       "      <td>3</td>\n",
       "      <td>25/01/2011</td>\n",
       "      <td>Tuesday</td>\n",
       "      <td>23:40</td>\n",
       "      <td>Kensington and Chelsea</td>\n",
       "      <td>Kensington and Chelsea</td>\n",
       "      <td>Kensington and Chelsea</td>\n",
       "      <td>Unclassified</td>\n",
       "      <td>first_road_class is C or Unclassified. These r...</td>\n",
       "      <td>Roundabout</td>\n",
       "      <td>30.0</td>\n",
       "      <td>Mini-roundabout</td>\n",
       "      <td>Give way or uncontrolled</td>\n",
       "      <td>Unclassified</td>\n",
       "      <td>first_road_class is C or Unclassified. These r...</td>\n",
       "      <td>None within 50 metres</td>\n",
       "      <td>No physical crossing facilities within 50 metres</td>\n",
       "      <td>Darkness - lights lit</td>\n",
       "      <td>Fine no high winds</td>\n",
       "      <td>Dry</td>\n",
       "      <td>None</td>\n",
       "      <td>None</td>\n",
       "      <td>Urban</td>\n",
       "      <td>Yes</td>\n",
       "      <td>Non-trunk</td>\n",
       "      <td>E01002813</td>\n",
       "    </tr>\n",
       "    <tr>\n",
       "      <th>201101BS70007</th>\n",
       "      <td>2011</td>\n",
       "      <td>01BS70007</td>\n",
       "      <td>526280.0</td>\n",
       "      <td>177540.0</td>\n",
       "      <td>-0.182783</td>\n",
       "      <td>51.482671</td>\n",
       "      <td>Metropolitan Police</td>\n",
       "      <td>Slight</td>\n",
       "      <td>2</td>\n",
       "      <td>1</td>\n",
       "      <td>06/01/2011</td>\n",
       "      <td>Thursday</td>\n",
       "      <td>06:20</td>\n",
       "      <td>Kensington and Chelsea</td>\n",
       "      <td>Kensington and Chelsea</td>\n",
       "      <td>Kensington and Chelsea</td>\n",
       "      <td>A</td>\n",
       "      <td>3220</td>\n",
       "      <td>One way street</td>\n",
       "      <td>30.0</td>\n",
       "      <td>Not at junction or within 20 metres</td>\n",
       "      <td>Data missing or out of range</td>\n",
       "      <td>-1</td>\n",
       "      <td>NaN</td>\n",
       "      <td>None within 50 metres</td>\n",
       "      <td>No physical crossing facilities within 50 metres</td>\n",
       "      <td>Darkness - lights lit</td>\n",
       "      <td>Fine no high winds</td>\n",
       "      <td>Wet or damp</td>\n",
       "      <td>None</td>\n",
       "      <td>None</td>\n",
       "      <td>Urban</td>\n",
       "      <td>No</td>\n",
       "      <td>Non-trunk</td>\n",
       "      <td>E01002913</td>\n",
       "    </tr>\n",
       "  </tbody>\n",
       "</table>\n",
       "</div>"
      ],
      "text/plain": [
       "                accident_year accident_reference  location_easting_osgr  \\\n",
       "accident_index                                                            \n",
       "201101BS70001            2011          01BS70001               525590.0   \n",
       "201101BS70002            2011          01BS70002               527450.0   \n",
       "201101BS70003            2011          01BS70003               527120.0   \n",
       "201101BS70005            2011          01BS70005               525400.0   \n",
       "201101BS70007            2011          01BS70007               526280.0   \n",
       "\n",
       "                location_northing_osgr  longitude   latitude  \\\n",
       "accident_index                                                 \n",
       "201101BS70001                 178980.0  -0.192203  51.495766   \n",
       "201101BS70002                 179020.0  -0.165408  51.495710   \n",
       "201101BS70003                 178350.0  -0.170401  51.489763   \n",
       "201101BS70005                 179210.0  -0.194856  51.497875   \n",
       "201101BS70007                 177540.0  -0.182783  51.482671   \n",
       "\n",
       "                       police_force accident_severity  number_of_vehicles  \\\n",
       "accident_index                                                              \n",
       "201101BS70001   Metropolitan Police            Slight                   1   \n",
       "201101BS70002   Metropolitan Police           Serious                   2   \n",
       "201101BS70003   Metropolitan Police            Slight                   1   \n",
       "201101BS70005   Metropolitan Police            Slight                   2   \n",
       "201101BS70007   Metropolitan Police            Slight                   2   \n",
       "\n",
       "                number_of_casualties        date day_of_week   time  \\\n",
       "accident_index                                                        \n",
       "201101BS70001                      1  13/01/2011    Thursday  16:54   \n",
       "201101BS70002                      1  11/01/2011     Tuesday  19:45   \n",
       "201101BS70003                      1  19/01/2011   Wednesday  17:30   \n",
       "201101BS70005                      3  25/01/2011     Tuesday  23:40   \n",
       "201101BS70007                      1  06/01/2011    Thursday  06:20   \n",
       "\n",
       "               local_authority_district local_authority_ons_district  \\\n",
       "accident_index                                                         \n",
       "201101BS70001    Kensington and Chelsea       Kensington and Chelsea   \n",
       "201101BS70002    Kensington and Chelsea       Kensington and Chelsea   \n",
       "201101BS70003    Kensington and Chelsea       Kensington and Chelsea   \n",
       "201101BS70005    Kensington and Chelsea       Kensington and Chelsea   \n",
       "201101BS70007    Kensington and Chelsea       Kensington and Chelsea   \n",
       "\n",
       "               local_authority_highway first_road_class  \\\n",
       "accident_index                                            \n",
       "201101BS70001   Kensington and Chelsea                C   \n",
       "201101BS70002   Kensington and Chelsea                C   \n",
       "201101BS70003   Kensington and Chelsea                B   \n",
       "201101BS70005   Kensington and Chelsea     Unclassified   \n",
       "201101BS70007   Kensington and Chelsea                A   \n",
       "\n",
       "                                                first_road_number  \\\n",
       "accident_index                                                      \n",
       "201101BS70001   first_road_class is C or Unclassified. These r...   \n",
       "201101BS70002   first_road_class is C or Unclassified. These r...   \n",
       "201101BS70003                                                 304   \n",
       "201101BS70005   first_road_class is C or Unclassified. These r...   \n",
       "201101BS70007                                                3220   \n",
       "\n",
       "                         road_type  speed_limit  \\\n",
       "accident_index                                    \n",
       "201101BS70001   Single carriageway         30.0   \n",
       "201101BS70002   Single carriageway         30.0   \n",
       "201101BS70003   Single carriageway         30.0   \n",
       "201101BS70005           Roundabout         30.0   \n",
       "201101BS70007       One way street         30.0   \n",
       "\n",
       "                                    junction_detail  \\\n",
       "accident_index                                        \n",
       "201101BS70001                            Crossroads   \n",
       "201101BS70002               T or staggered junction   \n",
       "201101BS70003   Not at junction or within 20 metres   \n",
       "201101BS70005                       Mini-roundabout   \n",
       "201101BS70007   Not at junction or within 20 metres   \n",
       "\n",
       "                            junction_control second_road_class  \\\n",
       "accident_index                                                   \n",
       "201101BS70001       Give way or uncontrolled      Unclassified   \n",
       "201101BS70002       Give way or uncontrolled      Unclassified   \n",
       "201101BS70003   Data missing or out of range                -1   \n",
       "201101BS70005       Give way or uncontrolled      Unclassified   \n",
       "201101BS70007   Data missing or out of range                -1   \n",
       "\n",
       "                                               second_road_number  \\\n",
       "accident_index                                                      \n",
       "201101BS70001   first_road_class is C or Unclassified. These r...   \n",
       "201101BS70002   first_road_class is C or Unclassified. These r...   \n",
       "201101BS70003                                                 NaN   \n",
       "201101BS70005   first_road_class is C or Unclassified. These r...   \n",
       "201101BS70007                                                 NaN   \n",
       "\n",
       "               pedestrian_crossing_human_control  \\\n",
       "accident_index                                     \n",
       "201101BS70001             None within 50 metres    \n",
       "201101BS70002             None within 50 metres    \n",
       "201101BS70003             None within 50 metres    \n",
       "201101BS70005             None within 50 metres    \n",
       "201101BS70007             None within 50 metres    \n",
       "\n",
       "                         pedestrian_crossing_physical_facilities  \\\n",
       "accident_index                                                     \n",
       "201101BS70001   No physical crossing facilities within 50 metres   \n",
       "201101BS70002   No physical crossing facilities within 50 metres   \n",
       "201101BS70003   No physical crossing facilities within 50 metres   \n",
       "201101BS70005   No physical crossing facilities within 50 metres   \n",
       "201101BS70007   No physical crossing facilities within 50 metres   \n",
       "\n",
       "                     light_conditions     weather_conditions  \\\n",
       "accident_index                                                 \n",
       "201101BS70001   Darkness - lights lit  Raining no high winds   \n",
       "201101BS70002   Darkness - lights lit     Fine no high winds   \n",
       "201101BS70003   Darkness - lights lit     Fine no high winds   \n",
       "201101BS70005   Darkness - lights lit     Fine no high winds   \n",
       "201101BS70007   Darkness - lights lit     Fine no high winds   \n",
       "\n",
       "               road_surface_conditions special_conditions_at_site  \\\n",
       "accident_index                                                      \n",
       "201101BS70001              Wet or damp                       None   \n",
       "201101BS70002              Wet or damp                       None   \n",
       "201101BS70003                      Dry                       None   \n",
       "201101BS70005                      Dry                       None   \n",
       "201101BS70007              Wet or damp                       None   \n",
       "\n",
       "               carriageway_hazards urban_or_rural_area  \\\n",
       "accident_index                                           \n",
       "201101BS70001                 None               Urban   \n",
       "201101BS70002                 None               Urban   \n",
       "201101BS70003                 None               Urban   \n",
       "201101BS70005                 None               Urban   \n",
       "201101BS70007                 None               Urban   \n",
       "\n",
       "               did_police_officer_attend_scene_of_accident trunk_road_flag  \\\n",
       "accident_index                                                               \n",
       "201101BS70001                                          Yes       Non-trunk   \n",
       "201101BS70002                                          Yes       Non-trunk   \n",
       "201101BS70003                                          Yes       Non-trunk   \n",
       "201101BS70005                                          Yes       Non-trunk   \n",
       "201101BS70007                                           No       Non-trunk   \n",
       "\n",
       "               lsoa_of_accident_location  \n",
       "accident_index                            \n",
       "201101BS70001                  E01002812  \n",
       "201101BS70002                  E01002819  \n",
       "201101BS70003                  E01002914  \n",
       "201101BS70005                  E01002813  \n",
       "201101BS70007                  E01002913  "
      ]
     },
     "execution_count": 1752,
     "metadata": {},
     "output_type": "execute_result"
    }
   ],
   "source": [
    "df_accidents.head()"
   ]
  },
  {
   "cell_type": "code",
   "execution_count": 1753,
   "metadata": {},
   "outputs": [
    {
     "name": "stdout",
     "output_type": "stream",
     "text": [
      "<class 'pandas.core.frame.DataFrame'>\n",
      "Index: 151474 entries, 201101BS70001 to 2011984147811\n",
      "Data columns (total 35 columns):\n",
      " #   Column                                       Non-Null Count   Dtype  \n",
      "---  ------                                       --------------   -----  \n",
      " 0   accident_year                                151474 non-null  int64  \n",
      " 1   accident_reference                           151474 non-null  object \n",
      " 2   location_easting_osgr                        151474 non-null  float64\n",
      " 3   location_northing_osgr                       151474 non-null  float64\n",
      " 4   longitude                                    151474 non-null  float64\n",
      " 5   latitude                                     151474 non-null  float64\n",
      " 6   police_force                                 151474 non-null  object \n",
      " 7   accident_severity                            151474 non-null  object \n",
      " 8   number_of_vehicles                           151474 non-null  int64  \n",
      " 9   number_of_casualties                         151474 non-null  int64  \n",
      " 10  date                                         151474 non-null  object \n",
      " 11  day_of_week                                  151474 non-null  object \n",
      " 12  time                                         151474 non-null  object \n",
      " 13  local_authority_district                     151474 non-null  object \n",
      " 14  local_authority_ons_district                 151474 non-null  object \n",
      " 15  local_authority_highway                      151474 non-null  object \n",
      " 16  first_road_class                             151474 non-null  object \n",
      " 17  first_road_number                            151474 non-null  object \n",
      " 18  road_type                                    150745 non-null  object \n",
      " 19  speed_limit                                  151474 non-null  float64\n",
      " 20  junction_detail                              151474 non-null  object \n",
      " 21  junction_control                             151474 non-null  object \n",
      " 22  second_road_class                            151474 non-null  object \n",
      " 23  second_road_number                           90974 non-null   object \n",
      " 24  pedestrian_crossing_human_control            151474 non-null  object \n",
      " 25  pedestrian_crossing_physical_facilities      151474 non-null  object \n",
      " 26  light_conditions                             151474 non-null  object \n",
      " 27  weather_conditions                           148852 non-null  object \n",
      " 28  road_surface_conditions                      151474 non-null  object \n",
      " 29  special_conditions_at_site                   151474 non-null  object \n",
      " 30  carriageway_hazards                          151474 non-null  object \n",
      " 31  urban_or_rural_area                          151474 non-null  object \n",
      " 32  did_police_officer_attend_scene_of_accident  151474 non-null  object \n",
      " 33  trunk_road_flag                              151474 non-null  object \n",
      " 34  lsoa_of_accident_location                    151474 non-null  object \n",
      "dtypes: float64(5), int64(3), object(27)\n",
      "memory usage: 41.6+ MB\n"
     ]
    }
   ],
   "source": [
    "df_accidents.info()"
   ]
  },
  {
   "cell_type": "code",
   "execution_count": 1754,
   "metadata": {
    "scrolled": true
   },
   "outputs": [
    {
     "data": {
      "text/plain": [
       "['accident_year',\n",
       " 'accident_reference',\n",
       " 'location_easting_osgr',\n",
       " 'location_northing_osgr',\n",
       " 'longitude',\n",
       " 'latitude',\n",
       " 'police_force',\n",
       " 'accident_severity',\n",
       " 'number_of_vehicles',\n",
       " 'number_of_casualties',\n",
       " 'date',\n",
       " 'day_of_week',\n",
       " 'time',\n",
       " 'local_authority_district',\n",
       " 'local_authority_ons_district',\n",
       " 'local_authority_highway',\n",
       " 'first_road_class',\n",
       " 'first_road_number',\n",
       " 'road_type',\n",
       " 'speed_limit',\n",
       " 'junction_detail',\n",
       " 'junction_control',\n",
       " 'second_road_class',\n",
       " 'second_road_number',\n",
       " 'pedestrian_crossing_human_control',\n",
       " 'pedestrian_crossing_physical_facilities',\n",
       " 'light_conditions',\n",
       " 'weather_conditions',\n",
       " 'road_surface_conditions',\n",
       " 'special_conditions_at_site',\n",
       " 'carriageway_hazards',\n",
       " 'urban_or_rural_area',\n",
       " 'did_police_officer_attend_scene_of_accident',\n",
       " 'trunk_road_flag',\n",
       " 'lsoa_of_accident_location']"
      ]
     },
     "execution_count": 1754,
     "metadata": {},
     "output_type": "execute_result"
    }
   ],
   "source": [
    "info = list(df_accidents.columns)\n",
    "info"
   ]
  },
  {
   "cell_type": "code",
   "execution_count": 1755,
   "metadata": {
    "scrolled": true
   },
   "outputs": [
    {
     "data": {
      "text/plain": [
       "['accident_year',\n",
       " 'accident_reference',\n",
       " 'location_easting_osgr',\n",
       " 'location_northing_osgr',\n",
       " 'longitude',\n",
       " 'latitude',\n",
       " 'date',\n",
       " 'time',\n",
       " 'first_road_number',\n",
       " 'second_road_number',\n",
       " 'lsoa_of_accident_location']"
      ]
     },
     "execution_count": 1755,
     "metadata": {},
     "output_type": "execute_result"
    }
   ],
   "source": [
    "numeric_columns = info[0:6] + [info[10]] + [info[12]] + [info[17]] + [info[23]] + [info[-1]]\n",
    "numeric_columns"
   ]
  },
  {
   "cell_type": "code",
   "execution_count": null,
   "metadata": {},
   "outputs": [],
   "source": []
  },
  {
   "cell_type": "code",
   "execution_count": 1756,
   "metadata": {
    "scrolled": true
   },
   "outputs": [
    {
     "data": {
      "text/html": [
       "<div>\n",
       "<style scoped>\n",
       "    .dataframe tbody tr th:only-of-type {\n",
       "        vertical-align: middle;\n",
       "    }\n",
       "\n",
       "    .dataframe tbody tr th {\n",
       "        vertical-align: top;\n",
       "    }\n",
       "\n",
       "    .dataframe thead th {\n",
       "        text-align: right;\n",
       "    }\n",
       "</style>\n",
       "<table border=\"1\" class=\"dataframe\">\n",
       "  <thead>\n",
       "    <tr style=\"text-align: right;\">\n",
       "      <th></th>\n",
       "      <th>accident_year</th>\n",
       "      <th>accident_reference</th>\n",
       "      <th>location_easting_osgr</th>\n",
       "      <th>location_northing_osgr</th>\n",
       "      <th>longitude</th>\n",
       "      <th>latitude</th>\n",
       "      <th>police_force</th>\n",
       "      <th>accident_severity</th>\n",
       "      <th>number_of_vehicles</th>\n",
       "      <th>number_of_casualties</th>\n",
       "      <th>date</th>\n",
       "      <th>day_of_week</th>\n",
       "      <th>time</th>\n",
       "      <th>local_authority_district</th>\n",
       "      <th>local_authority_ons_district</th>\n",
       "      <th>local_authority_highway</th>\n",
       "      <th>first_road_class</th>\n",
       "      <th>first_road_number</th>\n",
       "      <th>road_type</th>\n",
       "      <th>speed_limit</th>\n",
       "      <th>junction_detail</th>\n",
       "      <th>junction_control</th>\n",
       "      <th>second_road_class</th>\n",
       "      <th>second_road_number</th>\n",
       "      <th>pedestrian_crossing_human_control</th>\n",
       "      <th>pedestrian_crossing_physical_facilities</th>\n",
       "      <th>light_conditions</th>\n",
       "      <th>weather_conditions</th>\n",
       "      <th>road_surface_conditions</th>\n",
       "      <th>special_conditions_at_site</th>\n",
       "      <th>carriageway_hazards</th>\n",
       "      <th>urban_or_rural_area</th>\n",
       "      <th>did_police_officer_attend_scene_of_accident</th>\n",
       "      <th>trunk_road_flag</th>\n",
       "      <th>lsoa_of_accident_location</th>\n",
       "    </tr>\n",
       "    <tr>\n",
       "      <th>accident_index</th>\n",
       "      <th></th>\n",
       "      <th></th>\n",
       "      <th></th>\n",
       "      <th></th>\n",
       "      <th></th>\n",
       "      <th></th>\n",
       "      <th></th>\n",
       "      <th></th>\n",
       "      <th></th>\n",
       "      <th></th>\n",
       "      <th></th>\n",
       "      <th></th>\n",
       "      <th></th>\n",
       "      <th></th>\n",
       "      <th></th>\n",
       "      <th></th>\n",
       "      <th></th>\n",
       "      <th></th>\n",
       "      <th></th>\n",
       "      <th></th>\n",
       "      <th></th>\n",
       "      <th></th>\n",
       "      <th></th>\n",
       "      <th></th>\n",
       "      <th></th>\n",
       "      <th></th>\n",
       "      <th></th>\n",
       "      <th></th>\n",
       "      <th></th>\n",
       "      <th></th>\n",
       "      <th></th>\n",
       "      <th></th>\n",
       "      <th></th>\n",
       "      <th></th>\n",
       "      <th></th>\n",
       "    </tr>\n",
       "  </thead>\n",
       "  <tbody>\n",
       "    <tr>\n",
       "      <th>201101BS70001</th>\n",
       "      <td>2011</td>\n",
       "      <td>01BS70001</td>\n",
       "      <td>525590.0</td>\n",
       "      <td>178980.0</td>\n",
       "      <td>-0.192203</td>\n",
       "      <td>51.495766</td>\n",
       "      <td>Metropolitan Police</td>\n",
       "      <td>Slight</td>\n",
       "      <td>1</td>\n",
       "      <td>1</td>\n",
       "      <td>2011-01-13</td>\n",
       "      <td>Thursday</td>\n",
       "      <td>16:54</td>\n",
       "      <td>Kensington and Chelsea</td>\n",
       "      <td>Kensington and Chelsea</td>\n",
       "      <td>Kensington and Chelsea</td>\n",
       "      <td>C</td>\n",
       "      <td>first_road_class is C or Unclassified. These r...</td>\n",
       "      <td>Single carriageway</td>\n",
       "      <td>30.0</td>\n",
       "      <td>Crossroads</td>\n",
       "      <td>Give way or uncontrolled</td>\n",
       "      <td>Unclassified</td>\n",
       "      <td>first_road_class is C or Unclassified. These r...</td>\n",
       "      <td>None within 50 metres</td>\n",
       "      <td>No physical crossing facilities within 50 metres</td>\n",
       "      <td>Darkness - lights lit</td>\n",
       "      <td>Raining no high winds</td>\n",
       "      <td>Wet or damp</td>\n",
       "      <td>None</td>\n",
       "      <td>None</td>\n",
       "      <td>Urban</td>\n",
       "      <td>Yes</td>\n",
       "      <td>Non-trunk</td>\n",
       "      <td>E01002812</td>\n",
       "    </tr>\n",
       "    <tr>\n",
       "      <th>201101BS70002</th>\n",
       "      <td>2011</td>\n",
       "      <td>01BS70002</td>\n",
       "      <td>527450.0</td>\n",
       "      <td>179020.0</td>\n",
       "      <td>-0.165408</td>\n",
       "      <td>51.495710</td>\n",
       "      <td>Metropolitan Police</td>\n",
       "      <td>Serious</td>\n",
       "      <td>2</td>\n",
       "      <td>1</td>\n",
       "      <td>2011-11-01</td>\n",
       "      <td>Tuesday</td>\n",
       "      <td>19:45</td>\n",
       "      <td>Kensington and Chelsea</td>\n",
       "      <td>Kensington and Chelsea</td>\n",
       "      <td>Kensington and Chelsea</td>\n",
       "      <td>C</td>\n",
       "      <td>first_road_class is C or Unclassified. These r...</td>\n",
       "      <td>Single carriageway</td>\n",
       "      <td>30.0</td>\n",
       "      <td>T or staggered junction</td>\n",
       "      <td>Give way or uncontrolled</td>\n",
       "      <td>Unclassified</td>\n",
       "      <td>first_road_class is C or Unclassified. These r...</td>\n",
       "      <td>None within 50 metres</td>\n",
       "      <td>No physical crossing facilities within 50 metres</td>\n",
       "      <td>Darkness - lights lit</td>\n",
       "      <td>Fine no high winds</td>\n",
       "      <td>Wet or damp</td>\n",
       "      <td>None</td>\n",
       "      <td>None</td>\n",
       "      <td>Urban</td>\n",
       "      <td>Yes</td>\n",
       "      <td>Non-trunk</td>\n",
       "      <td>E01002819</td>\n",
       "    </tr>\n",
       "    <tr>\n",
       "      <th>201101BS70003</th>\n",
       "      <td>2011</td>\n",
       "      <td>01BS70003</td>\n",
       "      <td>527120.0</td>\n",
       "      <td>178350.0</td>\n",
       "      <td>-0.170401</td>\n",
       "      <td>51.489763</td>\n",
       "      <td>Metropolitan Police</td>\n",
       "      <td>Slight</td>\n",
       "      <td>1</td>\n",
       "      <td>1</td>\n",
       "      <td>2011-01-19</td>\n",
       "      <td>Wednesday</td>\n",
       "      <td>17:30</td>\n",
       "      <td>Kensington and Chelsea</td>\n",
       "      <td>Kensington and Chelsea</td>\n",
       "      <td>Kensington and Chelsea</td>\n",
       "      <td>B</td>\n",
       "      <td>304</td>\n",
       "      <td>Single carriageway</td>\n",
       "      <td>30.0</td>\n",
       "      <td>Not at junction or within 20 metres</td>\n",
       "      <td>Data missing or out of range</td>\n",
       "      <td>-1</td>\n",
       "      <td>NaN</td>\n",
       "      <td>None within 50 metres</td>\n",
       "      <td>No physical crossing facilities within 50 metres</td>\n",
       "      <td>Darkness - lights lit</td>\n",
       "      <td>Fine no high winds</td>\n",
       "      <td>Dry</td>\n",
       "      <td>None</td>\n",
       "      <td>None</td>\n",
       "      <td>Urban</td>\n",
       "      <td>Yes</td>\n",
       "      <td>Non-trunk</td>\n",
       "      <td>E01002914</td>\n",
       "    </tr>\n",
       "    <tr>\n",
       "      <th>201101BS70005</th>\n",
       "      <td>2011</td>\n",
       "      <td>01BS70005</td>\n",
       "      <td>525400.0</td>\n",
       "      <td>179210.0</td>\n",
       "      <td>-0.194856</td>\n",
       "      <td>51.497875</td>\n",
       "      <td>Metropolitan Police</td>\n",
       "      <td>Slight</td>\n",
       "      <td>2</td>\n",
       "      <td>3</td>\n",
       "      <td>2011-01-25</td>\n",
       "      <td>Tuesday</td>\n",
       "      <td>23:40</td>\n",
       "      <td>Kensington and Chelsea</td>\n",
       "      <td>Kensington and Chelsea</td>\n",
       "      <td>Kensington and Chelsea</td>\n",
       "      <td>Unclassified</td>\n",
       "      <td>first_road_class is C or Unclassified. These r...</td>\n",
       "      <td>Roundabout</td>\n",
       "      <td>30.0</td>\n",
       "      <td>Mini-roundabout</td>\n",
       "      <td>Give way or uncontrolled</td>\n",
       "      <td>Unclassified</td>\n",
       "      <td>first_road_class is C or Unclassified. These r...</td>\n",
       "      <td>None within 50 metres</td>\n",
       "      <td>No physical crossing facilities within 50 metres</td>\n",
       "      <td>Darkness - lights lit</td>\n",
       "      <td>Fine no high winds</td>\n",
       "      <td>Dry</td>\n",
       "      <td>None</td>\n",
       "      <td>None</td>\n",
       "      <td>Urban</td>\n",
       "      <td>Yes</td>\n",
       "      <td>Non-trunk</td>\n",
       "      <td>E01002813</td>\n",
       "    </tr>\n",
       "    <tr>\n",
       "      <th>201101BS70007</th>\n",
       "      <td>2011</td>\n",
       "      <td>01BS70007</td>\n",
       "      <td>526280.0</td>\n",
       "      <td>177540.0</td>\n",
       "      <td>-0.182783</td>\n",
       "      <td>51.482671</td>\n",
       "      <td>Metropolitan Police</td>\n",
       "      <td>Slight</td>\n",
       "      <td>2</td>\n",
       "      <td>1</td>\n",
       "      <td>2011-06-01</td>\n",
       "      <td>Thursday</td>\n",
       "      <td>06:20</td>\n",
       "      <td>Kensington and Chelsea</td>\n",
       "      <td>Kensington and Chelsea</td>\n",
       "      <td>Kensington and Chelsea</td>\n",
       "      <td>A</td>\n",
       "      <td>3220</td>\n",
       "      <td>One way street</td>\n",
       "      <td>30.0</td>\n",
       "      <td>Not at junction or within 20 metres</td>\n",
       "      <td>Data missing or out of range</td>\n",
       "      <td>-1</td>\n",
       "      <td>NaN</td>\n",
       "      <td>None within 50 metres</td>\n",
       "      <td>No physical crossing facilities within 50 metres</td>\n",
       "      <td>Darkness - lights lit</td>\n",
       "      <td>Fine no high winds</td>\n",
       "      <td>Wet or damp</td>\n",
       "      <td>None</td>\n",
       "      <td>None</td>\n",
       "      <td>Urban</td>\n",
       "      <td>No</td>\n",
       "      <td>Non-trunk</td>\n",
       "      <td>E01002913</td>\n",
       "    </tr>\n",
       "  </tbody>\n",
       "</table>\n",
       "</div>"
      ],
      "text/plain": [
       "                accident_year accident_reference  location_easting_osgr  \\\n",
       "accident_index                                                            \n",
       "201101BS70001            2011          01BS70001               525590.0   \n",
       "201101BS70002            2011          01BS70002               527450.0   \n",
       "201101BS70003            2011          01BS70003               527120.0   \n",
       "201101BS70005            2011          01BS70005               525400.0   \n",
       "201101BS70007            2011          01BS70007               526280.0   \n",
       "\n",
       "                location_northing_osgr  longitude   latitude  \\\n",
       "accident_index                                                 \n",
       "201101BS70001                 178980.0  -0.192203  51.495766   \n",
       "201101BS70002                 179020.0  -0.165408  51.495710   \n",
       "201101BS70003                 178350.0  -0.170401  51.489763   \n",
       "201101BS70005                 179210.0  -0.194856  51.497875   \n",
       "201101BS70007                 177540.0  -0.182783  51.482671   \n",
       "\n",
       "                       police_force accident_severity  number_of_vehicles  \\\n",
       "accident_index                                                              \n",
       "201101BS70001   Metropolitan Police            Slight                   1   \n",
       "201101BS70002   Metropolitan Police           Serious                   2   \n",
       "201101BS70003   Metropolitan Police            Slight                   1   \n",
       "201101BS70005   Metropolitan Police            Slight                   2   \n",
       "201101BS70007   Metropolitan Police            Slight                   2   \n",
       "\n",
       "                number_of_casualties       date day_of_week   time  \\\n",
       "accident_index                                                       \n",
       "201101BS70001                      1 2011-01-13    Thursday  16:54   \n",
       "201101BS70002                      1 2011-11-01     Tuesday  19:45   \n",
       "201101BS70003                      1 2011-01-19   Wednesday  17:30   \n",
       "201101BS70005                      3 2011-01-25     Tuesday  23:40   \n",
       "201101BS70007                      1 2011-06-01    Thursday  06:20   \n",
       "\n",
       "               local_authority_district local_authority_ons_district  \\\n",
       "accident_index                                                         \n",
       "201101BS70001    Kensington and Chelsea       Kensington and Chelsea   \n",
       "201101BS70002    Kensington and Chelsea       Kensington and Chelsea   \n",
       "201101BS70003    Kensington and Chelsea       Kensington and Chelsea   \n",
       "201101BS70005    Kensington and Chelsea       Kensington and Chelsea   \n",
       "201101BS70007    Kensington and Chelsea       Kensington and Chelsea   \n",
       "\n",
       "               local_authority_highway first_road_class  \\\n",
       "accident_index                                            \n",
       "201101BS70001   Kensington and Chelsea                C   \n",
       "201101BS70002   Kensington and Chelsea                C   \n",
       "201101BS70003   Kensington and Chelsea                B   \n",
       "201101BS70005   Kensington and Chelsea     Unclassified   \n",
       "201101BS70007   Kensington and Chelsea                A   \n",
       "\n",
       "                                                first_road_number  \\\n",
       "accident_index                                                      \n",
       "201101BS70001   first_road_class is C or Unclassified. These r...   \n",
       "201101BS70002   first_road_class is C or Unclassified. These r...   \n",
       "201101BS70003                                                 304   \n",
       "201101BS70005   first_road_class is C or Unclassified. These r...   \n",
       "201101BS70007                                                3220   \n",
       "\n",
       "                         road_type  speed_limit  \\\n",
       "accident_index                                    \n",
       "201101BS70001   Single carriageway         30.0   \n",
       "201101BS70002   Single carriageway         30.0   \n",
       "201101BS70003   Single carriageway         30.0   \n",
       "201101BS70005           Roundabout         30.0   \n",
       "201101BS70007       One way street         30.0   \n",
       "\n",
       "                                    junction_detail  \\\n",
       "accident_index                                        \n",
       "201101BS70001                            Crossroads   \n",
       "201101BS70002               T or staggered junction   \n",
       "201101BS70003   Not at junction or within 20 metres   \n",
       "201101BS70005                       Mini-roundabout   \n",
       "201101BS70007   Not at junction or within 20 metres   \n",
       "\n",
       "                            junction_control second_road_class  \\\n",
       "accident_index                                                   \n",
       "201101BS70001       Give way or uncontrolled      Unclassified   \n",
       "201101BS70002       Give way or uncontrolled      Unclassified   \n",
       "201101BS70003   Data missing or out of range                -1   \n",
       "201101BS70005       Give way or uncontrolled      Unclassified   \n",
       "201101BS70007   Data missing or out of range                -1   \n",
       "\n",
       "                                               second_road_number  \\\n",
       "accident_index                                                      \n",
       "201101BS70001   first_road_class is C or Unclassified. These r...   \n",
       "201101BS70002   first_road_class is C or Unclassified. These r...   \n",
       "201101BS70003                                                 NaN   \n",
       "201101BS70005   first_road_class is C or Unclassified. These r...   \n",
       "201101BS70007                                                 NaN   \n",
       "\n",
       "               pedestrian_crossing_human_control  \\\n",
       "accident_index                                     \n",
       "201101BS70001             None within 50 metres    \n",
       "201101BS70002             None within 50 metres    \n",
       "201101BS70003             None within 50 metres    \n",
       "201101BS70005             None within 50 metres    \n",
       "201101BS70007             None within 50 metres    \n",
       "\n",
       "                         pedestrian_crossing_physical_facilities  \\\n",
       "accident_index                                                     \n",
       "201101BS70001   No physical crossing facilities within 50 metres   \n",
       "201101BS70002   No physical crossing facilities within 50 metres   \n",
       "201101BS70003   No physical crossing facilities within 50 metres   \n",
       "201101BS70005   No physical crossing facilities within 50 metres   \n",
       "201101BS70007   No physical crossing facilities within 50 metres   \n",
       "\n",
       "                     light_conditions     weather_conditions  \\\n",
       "accident_index                                                 \n",
       "201101BS70001   Darkness - lights lit  Raining no high winds   \n",
       "201101BS70002   Darkness - lights lit     Fine no high winds   \n",
       "201101BS70003   Darkness - lights lit     Fine no high winds   \n",
       "201101BS70005   Darkness - lights lit     Fine no high winds   \n",
       "201101BS70007   Darkness - lights lit     Fine no high winds   \n",
       "\n",
       "               road_surface_conditions special_conditions_at_site  \\\n",
       "accident_index                                                      \n",
       "201101BS70001              Wet or damp                       None   \n",
       "201101BS70002              Wet or damp                       None   \n",
       "201101BS70003                      Dry                       None   \n",
       "201101BS70005                      Dry                       None   \n",
       "201101BS70007              Wet or damp                       None   \n",
       "\n",
       "               carriageway_hazards urban_or_rural_area  \\\n",
       "accident_index                                           \n",
       "201101BS70001                 None               Urban   \n",
       "201101BS70002                 None               Urban   \n",
       "201101BS70003                 None               Urban   \n",
       "201101BS70005                 None               Urban   \n",
       "201101BS70007                 None               Urban   \n",
       "\n",
       "               did_police_officer_attend_scene_of_accident trunk_road_flag  \\\n",
       "accident_index                                                               \n",
       "201101BS70001                                          Yes       Non-trunk   \n",
       "201101BS70002                                          Yes       Non-trunk   \n",
       "201101BS70003                                          Yes       Non-trunk   \n",
       "201101BS70005                                          Yes       Non-trunk   \n",
       "201101BS70007                                           No       Non-trunk   \n",
       "\n",
       "               lsoa_of_accident_location  \n",
       "accident_index                            \n",
       "201101BS70001                  E01002812  \n",
       "201101BS70002                  E01002819  \n",
       "201101BS70003                  E01002914  \n",
       "201101BS70005                  E01002813  \n",
       "201101BS70007                  E01002913  "
      ]
     },
     "execution_count": 1756,
     "metadata": {},
     "output_type": "execute_result"
    }
   ],
   "source": [
    "df_accidents['date'] = pd.to_datetime(df_accidents['date'])\n",
    "df_accidents.head()"
   ]
  },
  {
   "cell_type": "markdown",
   "metadata": {},
   "source": [
    "# 2- EDA"
   ]
  },
  {
   "cell_type": "markdown",
   "metadata": {},
   "source": [
    "### Question 1: ``When are accidents more probable?``"
   ]
  },
  {
   "cell_type": "markdown",
   "metadata": {},
   "source": [
    "## Accidents against time"
   ]
  },
  {
   "cell_type": "code",
   "execution_count": 1757,
   "metadata": {
    "scrolled": false
   },
   "outputs": [
    {
     "name": "stderr",
     "output_type": "stream",
     "text": [
      "No artists with labels found to put in legend.  Note that artists whose label start with an underscore are ignored when legend() is called with no argument.\n"
     ]
    },
    {
     "data": {
      "text/plain": [
       "<matplotlib.legend.Legend at 0x20db07a9f40>"
      ]
     },
     "execution_count": 1757,
     "metadata": {},
     "output_type": "execute_result"
    },
    {
     "data": {
      "image/png": "[encoded data removed]",
      "text/plain": [
       "<Figure size 640x480 with 1 Axes>"
      ]
     },
     "metadata": {},
     "output_type": "display_data"
    }
   ],
   "source": [
    "class_series = df_accidents.groupby(pd.DatetimeIndex(df_accidents['date']).month)['accident_reference'].count()\n",
    "plt.plot(class_series.index, class_series)\n",
    "plt.title('Gas Price Over Time') #note here plt.title is used right away. However, when using the axes, we use plt.set_title()\n",
    "plt.locator_params(integer=True) #to make ticks on axes integers\n",
    "plt.legend(loc=1)"
   ]
  },
  {
   "cell_type": "markdown",
   "metadata": {},
   "source": [
    "##  ``which days have more accidents``"
   ]
  },
  {
   "cell_type": "code",
   "execution_count": 1758,
   "metadata": {
    "scrolled": false
   },
   "outputs": [
    {
     "data": {
      "image/png": "[encoded data removed]",
      "text/plain": [
       "<Figure size 640x480 with 1 Axes>"
      ]
     },
     "metadata": {},
     "output_type": "display_data"
    }
   ],
   "source": [
    "sns.set(style='darkgrid')\n",
    "sns.countplot(x = 'day_of_week',\n",
    "              data = df_accidents,\n",
    "              order = df_accidents['day_of_week'].value_counts().index)\n",
    "plt.xticks(rotation = 90)\n",
    "plt.title('Accidents Against Day of Week')\n",
    "plt.show()"
   ]
  },
  {
   "cell_type": "code",
   "execution_count": 1759,
   "metadata": {},
   "outputs": [
    {
     "data": {
      "image/png": "[encoded data removed]",
      "text/plain": [
       "<Figure size 1200x600 with 1 Axes>"
      ]
     },
     "metadata": {},
     "output_type": "display_data"
    }
   ],
   "source": [
    "x = pd.crosstab(index=pd.to_datetime(df_accidents['time'], format='%H:%M').dt.hour,columns=df_accidents['accident_severity'])\n",
    "x.plot(kind='bar',stacked=True, color=['r','k','b'],figsize=(12,6))\n",
    "plt.show()"
   ]
  },
  {
   "cell_type": "markdown",
   "metadata": {},
   "source": [
    "### Question 2: ``How do enviromental conditions influence severity? ``"
   ]
  },
  {
   "cell_type": "code",
   "execution_count": 1760,
   "metadata": {},
   "outputs": [
    {
     "data": {
      "text/plain": [
       "array(['Slight', 'Serious', 'Fatal'], dtype=object)"
      ]
     },
     "execution_count": 1760,
     "metadata": {},
     "output_type": "execute_result"
    }
   ],
   "source": [
    "df_accidents.accident_severity.unique()"
   ]
  },
  {
   "cell_type": "code",
   "execution_count": 1761,
   "metadata": {
    "scrolled": true
   },
   "outputs": [
    {
     "data": {
      "image/png": "[encoded data removed]",
      "text/plain": [
       "<Figure size 641.097x500 with 1 Axes>"
      ]
     },
     "metadata": {},
     "output_type": "display_data"
    }
   ],
   "source": [
    "\n",
    "x,y = 'road_surface_conditions', 'accident_severity'\n",
    "\n",
    "(df_accidents\n",
    ".groupby(x)[y]\n",
    ".value_counts(normalize=True)\n",
    ".mul(100)\n",
    ".rename('percent')\n",
    ".reset_index()\n",
    ".pipe((sns.catplot,'data'), x=x,y='percent',hue=y,kind='bar'))\n",
    "plt.xticks(rotation = 90)\n",
    "plt.yticks(np.arange(0, 100, 5.0))\n",
    "plt.show()"
   ]
  },
  {
   "cell_type": "code",
   "execution_count": 1762,
   "metadata": {},
   "outputs": [
    {
     "data": {
      "image/png": "[encoded data removed]",
      "text/plain": [
       "<Figure size 641.097x500 with 1 Axes>"
      ]
     },
     "metadata": {},
     "output_type": "display_data"
    }
   ],
   "source": [
    "\n",
    "x,y = 'weather_conditions', 'accident_severity'\n",
    "\n",
    "(df_accidents\n",
    ".groupby(x)[y]\n",
    ".value_counts(normalize=True)\n",
    ".mul(100)\n",
    ".rename('percent')\n",
    ".reset_index()\n",
    ".pipe((sns.catplot,'data'), x=x,y='percent',hue=y,kind='bar'))\n",
    "plt.xticks(rotation = 90)\n",
    "plt.yticks(np.arange(0, 100, 5.0))\n",
    "plt.show()"
   ]
  },
  {
   "cell_type": "code",
   "execution_count": 1763,
   "metadata": {
    "scrolled": true
   },
   "outputs": [
    {
     "data": {
      "image/png": "[encoded data removed]",
      "text/plain": [
       "<Figure size 641.097x500 with 1 Axes>"
      ]
     },
     "metadata": {},
     "output_type": "display_data"
    }
   ],
   "source": [
    "x,y = 'light_conditions', 'accident_severity'\n",
    "\n",
    "(df_accidents\n",
    ".groupby(x)[y]\n",
    ".value_counts(normalize=True)\n",
    ".mul(100)\n",
    ".rename('percent')\n",
    ".reset_index()\n",
    ".pipe((sns.catplot,'data'), x=x,y='percent',hue=y,kind='bar'))\n",
    "plt.xticks(rotation = 90)\n",
    "plt.yticks(np.arange(0, 100, 5.0))\n",
    "plt.show()"
   ]
  },
  {
   "cell_type": "markdown",
   "metadata": {},
   "source": [
    "### Question3: ``Are certain junctions more likely to cause severe accidents?``"
   ]
  },
  {
   "cell_type": "code",
   "execution_count": 1764,
   "metadata": {},
   "outputs": [
    {
     "data": {
      "image/png": "[encoded data removed]",
      "text/plain": [
       "<Figure size 641.097x500 with 1 Axes>"
      ]
     },
     "metadata": {},
     "output_type": "display_data"
    }
   ],
   "source": [
    "x,y =  'junction_detail','accident_severity'\n",
    "\n",
    "(df_accidents\n",
    ".groupby(x)[y]\n",
    ".value_counts(normalize=True)\n",
    ".mul(100)\n",
    ".rename('percent')\n",
    ".reset_index()\n",
    ".pipe((sns.catplot,'data'), x=x,y='percent',hue=y,kind='bar'))\n",
    "plt.xticks(rotation = 90)\n",
    "plt.yticks(np.arange(0, 100, 5.0))\n",
    "plt.show()"
   ]
  },
  {
   "cell_type": "code",
   "execution_count": 1765,
   "metadata": {
    "scrolled": true
   },
   "outputs": [
    {
     "data": {
      "image/png": "[encoded data removed]",
      "text/plain": [
       "<Figure size 500x1500 with 3 Axes>"
      ]
     },
     "metadata": {},
     "output_type": "display_data"
    }
   ],
   "source": [
    "x,y =  'junction_detail','accident_severity'\n",
    "(df_accidents\n",
    ".groupby(x)[y]\n",
    ".value_counts(normalize=True)\n",
    ".mul(100)\n",
    ".rename('percent')\n",
    ".reset_index()\n",
    ".pipe((sns.catplot,'data'), x=x,y='percent',row=y,kind='bar'))\n",
    "plt.xticks(rotation = 90)\n",
    "plt.show()"
   ]
  },
  {
   "cell_type": "code",
   "execution_count": null,
   "metadata": {},
   "outputs": [],
   "source": [
    "fig=plt.figure()\n",
    "ax=fig.add_subplot(111)\n",
    "ax.set_xbound(lower=0.0, upper=5)\n",
    "ax.set_xlim([0, 5.00])\n",
    "sns.distplot(df_accidents.number_of_casualties,ax=ax)"
   ]
  },
  {
   "cell_type": "code",
   "execution_count": null,
   "metadata": {},
   "outputs": [],
   "source": [
    "sns.set(style='darkgrid')\n",
    "sns.countplot(x = 'weather_conditions',\n",
    "              data = df_accidents,\n",
    "              order = df_accidents['weather_conditions'].value_counts().index)\n",
    "plt.xticks(rotation = 90)\n",
    "plt.title('Accidents Against Road Surface Conditions')\n",
    "plt.show()"
   ]
  },
  {
   "cell_type": "code",
   "execution_count": null,
   "metadata": {},
   "outputs": [],
   "source": [
    "sns.set(style='darkgrid')\n",
    "sns.countplot(x = 'road_surface_conditions',\n",
    "              data = df_accidents,\n",
    "              order = df_accidents['road_surface_conditions'].value_counts().index)\n",
    "plt.xticks(rotation = 90)\n",
    "plt.title('Accidents Against Road Surface Conditions')\n",
    "plt.show()"
   ]
  },
  {
   "cell_type": "markdown",
   "metadata": {},
   "source": [
    "### Question 4: `What Are The Top 10 Districts In Terms of Accident Frequency?`"
   ]
  },
  {
   "cell_type": "code",
   "execution_count": null,
   "metadata": {
    "scrolled": true
   },
   "outputs": [],
   "source": [
    "sns.set(style='darkgrid')\n",
    "sns.countplot(y = 'local_authority_ons_district',\n",
    "              data = df_accidents,\n",
    "              order = df_accidents['local_authority_ons_district'].value_counts().iloc[:10].index)\n",
    "plt.xticks(rotation = 90)\n",
    "plt.title('Accidents Against ONS District')\n",
    "plt.show()"
   ]
  },
  {
   "cell_type": "markdown",
   "metadata": {},
   "source": [
    "### Question 5: `Which Road Speed Limits Have The Highest Percentage of Fatal Road Accidents?`"
   ]
  },
  {
   "cell_type": "code",
   "execution_count": null,
   "metadata": {},
   "outputs": [],
   "source": [
    "x,y =  'speed_limit','accident_severity'\n",
    "(df_accidents\n",
    ".groupby(x)[y]\n",
    ".value_counts(normalize=True).loc[:,\"Fatal\"]\n",
    ".mul(100)\n",
    ".rename('percent')\n",
    ".reset_index()\n",
    ".pipe((sns.catplot,'data'), x=x,y='percent',kind='bar'))\n",
    "plt.xticks(rotation = 90)\n",
    "plt.show()"
   ]
  },
  {
   "cell_type": "markdown",
   "metadata": {},
   "source": [
    "# 3 - Cleaning Data"
   ]
  },
  {
   "cell_type": "markdown",
   "metadata": {},
   "source": [
    "## Observing Missing and duplicate Data"
   ]
  },
  {
   "cell_type": "markdown",
   "metadata": {},
   "source": [
    "### ``Investigating the missigness mechanism of second road number``"
   ]
  },
  {
   "cell_type": "code",
   "execution_count": null,
   "metadata": {
    "scrolled": true
   },
   "outputs": [],
   "source": [
    "df_accidents.describe()"
   ]
  },
  {
   "cell_type": "code",
   "execution_count": null,
   "metadata": {
    "scrolled": true
   },
   "outputs": [],
   "source": [
    "df_accidents.isnull().mean()*100"
   ]
  },
  {
   "cell_type": "code",
   "execution_count": null,
   "metadata": {
    "scrolled": true
   },
   "outputs": [],
   "source": [
    "df_accidents[['first_road_class','first_road_number','second_road_class','second_road_number' ]].head()"
   ]
  },
  {
   "cell_type": "code",
   "execution_count": null,
   "metadata": {},
   "outputs": [],
   "source": [
    "df_accidents[['first_road_number' ]].head()"
   ]
  },
  {
   "cell_type": "code",
   "execution_count": null,
   "metadata": {
    "scrolled": true
   },
   "outputs": [],
   "source": [
    "df_accidents[df_accidents['second_road_number'].isnull()][['first_road_class','first_road_number','second_road_class','second_road_number']].head()"
   ]
  },
  {
   "cell_type": "code",
   "execution_count": null,
   "metadata": {},
   "outputs": [],
   "source": [
    "df_accidents[df_accidents['second_road_number'].isnull()]['second_road_class'].unique()"
   ]
  },
  {
   "cell_type": "code",
   "execution_count": null,
   "metadata": {
    "scrolled": false
   },
   "outputs": [],
   "source": [
    "df_accidents[df_accidents['second_road_number'].isnull()].isnull().mean()*100"
   ]
  },
  {
   "cell_type": "code",
   "execution_count": null,
   "metadata": {
    "scrolled": true
   },
   "outputs": [],
   "source": [
    "df_accidents[df_accidents['second_road_class']== '-1'][['second_road_number']].isnull().mean()*100"
   ]
  },
  {
   "cell_type": "code",
   "execution_count": null,
   "metadata": {},
   "outputs": [],
   "source": [
    "df_secondRN_MAR = df_accidents.copy()\n",
    "df_secondRN_MAR['RN_missing'] =  df_secondRN_MAR['second_road_number'].isnull()\n",
    "df_secondRN_MAR['RN_missing'].mean()*100"
   ]
  },
  {
   "cell_type": "code",
   "execution_count": null,
   "metadata": {
    "scrolled": true
   },
   "outputs": [],
   "source": [
    "for k,v in enumerate(df_secondRN_MAR):\n",
    "    if(v not in numeric_columns):\n",
    "        crosstab = pd.crosstab( df_secondRN_MAR[v],df_secondRN_MAR['RN_missing'])\n",
    "        chi_result = stats.chi2_contingency(crosstab)\n",
    "        print(\"p for: \" + v + \" is: \" + str(chi_result[1]) + \" Chi square result: \" + str(chi_result[0]))\n",
    "        if(chi_result[1]<0.0001):\n",
    "            print(\" missingness is dependent on: \" + v)\n",
    "        else:\n",
    "            print(\" missingness is INdependent on: \" + v)"
   ]
  },
  {
   "cell_type": "code",
   "execution_count": null,
   "metadata": {},
   "outputs": [],
   "source": [
    "df_accidents[df_accidents.second_road_number.isnull()]['junction_detail'].value_counts()"
   ]
  },
  {
   "cell_type": "markdown",
   "metadata": {},
   "source": [
    "## Second Road Number Is MAR"
   ]
  },
  {
   "cell_type": "markdown",
   "metadata": {},
   "source": [
    "#### Second road number is missing at random where the absence of values for second road number is likely due to this data not being applicable for this object. It is MAR (Missing At Random) Where Second road number being missing depends on the value of Second road class."
   ]
  },
  {
   "cell_type": "markdown",
   "metadata": {},
   "source": [
    "##  ``Investigating the missingness mechanism of the attribute road_type: ``"
   ]
  },
  {
   "cell_type": "code",
   "execution_count": null,
   "metadata": {
    "scrolled": true
   },
   "outputs": [],
   "source": [
    "df_accidents[\"road_type\"].isnull().mean()*100"
   ]
  },
  {
   "cell_type": "code",
   "execution_count": null,
   "metadata": {},
   "outputs": [],
   "source": [
    "df_accidents[df_accidents[\"road_type\"].isnull()].nunique()"
   ]
  },
  {
   "cell_type": "code",
   "execution_count": null,
   "metadata": {},
   "outputs": [],
   "source": [
    "df_accidents[df_accidents[\"urban_or_rural_area\"]=='Urban'][\"road_type\"].isnull().mean()*100"
   ]
  },
  {
   "cell_type": "code",
   "execution_count": null,
   "metadata": {},
   "outputs": [],
   "source": [
    "df_road_type_MAR = df_accidents.copy()\n",
    "df_road_type_MAR['road_type_missing'] =  df_road_type_MAR['road_type'].isnull()\n",
    "df_road_type_MAR['road_type_missing'].mean()*100"
   ]
  },
  {
   "cell_type": "code",
   "execution_count": null,
   "metadata": {
    "scrolled": false
   },
   "outputs": [],
   "source": [
    "for k,v in enumerate(df_road_type_MAR):\n",
    "    if(v not in numeric_columns):\n",
    "        crosstab = pd.crosstab(df_road_type_MAR['road_type_missing'], df_road_type_MAR[v])\n",
    "        chi_result = stats.chi2_contingency(crosstab)\n",
    "        print(\"p for: \" + v + \" is: \" + str(chi_result[1]) + \" Chi square result: \" + str(chi_result[0]))\n",
    "        if(chi_result[1]<0.0001):\n",
    "            print(\" missingness is dependent on: \" + v)\n",
    "        else:\n",
    "            print(\" missingness is INdependent on: \" + v)\n"
   ]
  },
  {
   "cell_type": "code",
   "execution_count": null,
   "metadata": {
    "scrolled": true
   },
   "outputs": [],
   "source": [
    "df_accidents[df_accidents.road_type.isnull()].first_road_class.value_counts(normalize= True)"
   ]
  },
  {
   "cell_type": "code",
   "execution_count": null,
   "metadata": {
    "scrolled": true
   },
   "outputs": [],
   "source": [
    "df_accidents.first_road_class.value_counts(normalize= True)"
   ]
  },
  {
   "cell_type": "code",
   "execution_count": null,
   "metadata": {},
   "outputs": [],
   "source": [
    "df_accidents[df_accidents.road_type.isnull()].local_authority_district.value_counts(normalize= True),\\\n",
    "len(df_accidents[df_accidents.road_type.isnull()].local_authority_district.value_counts(normalize= True))"
   ]
  },
  {
   "cell_type": "code",
   "execution_count": null,
   "metadata": {},
   "outputs": [],
   "source": [
    "df_accidents.local_authority_district.value_counts(normalize= True),\\\n",
    "len(df_accidents.local_authority_district.value_counts(normalize= True))"
   ]
  },
  {
   "cell_type": "code",
   "execution_count": null,
   "metadata": {
    "scrolled": true
   },
   "outputs": [],
   "source": [
    "df_accidents[df_accidents.road_type.isnull()].junction_detail.value_counts()"
   ]
  },
  {
   "cell_type": "code",
   "execution_count": null,
   "metadata": {},
   "outputs": [],
   "source": [
    "df_accidents[df_accidents.road_type.isnull() == False].junction_detail.value_counts()"
   ]
  },
  {
   "cell_type": "code",
   "execution_count": null,
   "metadata": {},
   "outputs": [],
   "source": [
    "df_accidents.junction_detail.value_counts(normalize = True)"
   ]
  },
  {
   "cell_type": "markdown",
   "metadata": {},
   "source": [
    "## road_type is MAR"
   ]
  },
  {
   "cell_type": "markdown",
   "metadata": {},
   "source": [
    "#### A Chi-Square test was conducted to possibly explain the missingness of the attribute road_type. The initial hypothesis was that conducting the test would point out the specific variables on which road_type is dependant and would thus highlight if the variable is MAR. To conduct the test, a new boolean column was created to indicate whether road_type is missing for this datapoint, and then the independence of that boolean attribute was tested against all other attributes. After conducting the test, it was discovered that the attribute road_type depends on multiple columns, with various degrees of dependence."
   ]
  },
  {
   "cell_type": "markdown",
   "metadata": {},
   "source": [
    "#### The most notable attributes on which road_type missingness is dependent on were the police force, the local authority district variables, and the first road class. This all leads us to conclude that the road_type is MAR, since the probability of it being missing highly depends on other observed variables in the dataset."
   ]
  },
  {
   "cell_type": "markdown",
   "metadata": {},
   "source": [
    "### ``Investigating the missigness mechanism of weather conditions``"
   ]
  },
  {
   "cell_type": "code",
   "execution_count": null,
   "metadata": {},
   "outputs": [],
   "source": [
    "df_accidents.weather_conditions.unique()"
   ]
  },
  {
   "cell_type": "code",
   "execution_count": null,
   "metadata": {
    "scrolled": true
   },
   "outputs": [],
   "source": [
    "df_accidents[df_accidents.weather_conditions.isnull()]\n"
   ]
  },
  {
   "cell_type": "code",
   "execution_count": null,
   "metadata": {},
   "outputs": [],
   "source": [
    "df_accidents[df_accidents.weather_conditions.isnull()].shape\n"
   ]
  },
  {
   "cell_type": "code",
   "execution_count": null,
   "metadata": {
    "scrolled": false
   },
   "outputs": [],
   "source": [
    "df_accidents[df_accidents.weather_conditions == 'Raining no high winds'].road_surface_conditions.value_counts(dropna = False)"
   ]
  },
  {
   "cell_type": "code",
   "execution_count": null,
   "metadata": {},
   "outputs": [],
   "source": [
    "police_forces = df_accidents.police_force.value_counts().index\n",
    "\n",
    "for k,v in enumerate(police_forces):\n",
    "    df_test = df_accidents[df_accidents['police_force'] == v]\n",
    "    percentage_missing =  df_test.weather_conditions.isnull().mean()*100\n",
    "    print(v +\": \"+ str(percentage_missing) + \" percent missing\")\n",
    "    print(\"-----------------------------------------\")"
   ]
  },
  {
   "cell_type": "code",
   "execution_count": null,
   "metadata": {
    "scrolled": true
   },
   "outputs": [],
   "source": [
    "attendance = df_accidents.did_police_officer_attend_scene_of_accident.value_counts().index\n",
    "\n",
    "for k,v in enumerate(attendance):\n",
    "    df_test = df_accidents[df_accidents.did_police_officer_attend_scene_of_accident == v]\n",
    "    percentage_missing =  df_test.weather_conditions.isnull().mean()*100\n",
    "    print(v +\": \"+ str(percentage_missing) + \" percent missing\")\n",
    "    print(\"-----------------------------------------\")"
   ]
  },
  {
   "cell_type": "markdown",
   "metadata": {},
   "source": [
    "### Upon further examination of the data at hand, it was determined that there is a clear tendency of the weather conditions to not be reported when there is no police officer on scene. This concurs with our initial hypothesis that the weather conditions attribute is more likely to be missing when no police officer attended the scene. This logically makes sense as there is no police officer to record the weather condition of the scene and hence the data might go missing during reporting later on."
   ]
  },
  {
   "cell_type": "markdown",
   "metadata": {},
   "source": [
    "## Weather conditions is MAR. \n",
    "#### It is dependent on other columns, most notibly did_police_officer_attend_scene_of_accident"
   ]
  },
  {
   "cell_type": "markdown",
   "metadata": {},
   "source": [
    "## -----------------------------------------------------------------------------------------------------------------------"
   ]
  },
  {
   "cell_type": "markdown",
   "metadata": {},
   "source": [
    "## In some datasets, some missing values do not show up using the isnull() function, since they were filled using an arbitrary value such as \"missing\". Therefore, an analysis of the unique values is required."
   ]
  },
  {
   "cell_type": "code",
   "execution_count": null,
   "metadata": {
    "scrolled": true
   },
   "outputs": [],
   "source": [
    "for k,v in enumerate(df_accidents.columns):\n",
    "    print(\"Unique Values for column: \" + v)\n",
    "    print(df_accidents[v].unique())\n",
    "    print(\"-------------------------------------------------------------\")"
   ]
  },
  {
   "cell_type": "markdown",
   "metadata": {},
   "source": [
    "### ``Investigating the missigness mechanism of road_surface_conditions``"
   ]
  },
  {
   "cell_type": "markdown",
   "metadata": {},
   "source": [
    "### The \"Data missing or out of range\" indicates incomplete data for the road_surface_conditions. It is incomplete since the road surface conditions cannot be actually absent in the real world, thus the data being missing in the dataset signifies incomplete data."
   ]
  },
  {
   "cell_type": "code",
   "execution_count": null,
   "metadata": {},
   "outputs": [],
   "source": [
    "df_accidents.road_surface_conditions.unique()"
   ]
  },
  {
   "cell_type": "code",
   "execution_count": null,
   "metadata": {
    "scrolled": true
   },
   "outputs": [],
   "source": [
    "df_accidents[df_accidents.road_surface_conditions == 'Data missing or out of range']\n"
   ]
  },
  {
   "cell_type": "code",
   "execution_count": null,
   "metadata": {},
   "outputs": [],
   "source": [
    "df_accidents[df_accidents.road_surface_conditions == 'Data missing or out of range'].shape\n"
   ]
  },
  {
   "cell_type": "code",
   "execution_count": null,
   "metadata": {
    "scrolled": false
   },
   "outputs": [],
   "source": [
    "df_accidents[df_accidents.road_surface_conditions == 'Wet or damp'].weather_conditions.value_counts(dropna = False)"
   ]
  },
  {
   "cell_type": "code",
   "execution_count": null,
   "metadata": {},
   "outputs": [],
   "source": [
    "police_forces = df_accidents.police_force.value_counts().index\n",
    "\n",
    "for k,v in enumerate(police_forces):\n",
    "    df_test = df_accidents[df_accidents['police_force'] == v]\n",
    "    percentage_missing =  ((df_test[df_test.road_surface_conditions == 'Data missing or out of range']).shape[0]\\\n",
    "                           /(df_test).shape[0])*100\n",
    "    print(v +\": \"+ str(percentage_missing) + \" percent missing\")\n",
    "    print(\"-----------------------------------------\")"
   ]
  },
  {
   "cell_type": "code",
   "execution_count": null,
   "metadata": {
    "scrolled": false
   },
   "outputs": [],
   "source": [
    "attendance = df_accidents.did_police_officer_attend_scene_of_accident.value_counts().index\n",
    "\n",
    "for k,v in enumerate(attendance):\n",
    "    df_test = df_accidents[df_accidents.did_police_officer_attend_scene_of_accident == v]\n",
    "    percentage_missing =  ((df_test[df_test.road_surface_conditions == 'Data missing or out of range']).shape[0]\\\n",
    "                           /(df_test).shape[0])*100\n",
    "    print(v +\": \"+ str(percentage_missing) + \" percent missing\")\n",
    "    print(\"-----------------------------------------\")"
   ]
  },
  {
   "cell_type": "markdown",
   "metadata": {},
   "source": [
    "### As can be seen by the analysis conducted, the probability that the road_surface_conditions is missing depends on multiple other columns. For instance, it is more likely for road_surface_conditions to be missing in some police forces than others, which can be attributed to the police department policy (some departments may be stricter about filling out the accident reports). Furthermore, it can be seen that the road_surface_conditions is more likely to be missing when a police officer does not attend the scene of the accident.  This logically makes sense as there is no police officer to record the weather condition of the scene and hence the data might go missing during reporting later on."
   ]
  },
  {
   "cell_type": "markdown",
   "metadata": {},
   "source": [
    "## road_surface_conditions is MAR\n",
    "#### Its missingness is dependent on other columns, such as police_force and did_police_officer_attend_scene_of_accident "
   ]
  },
  {
   "cell_type": "markdown",
   "metadata": {},
   "source": [
    "## In the junction_control attribute, the string \"Data missing or out of range\" indicates missing values. Hence, further exploration is required."
   ]
  },
  {
   "cell_type": "markdown",
   "metadata": {},
   "source": [
    "### ``Investigating the missigness mechanism of junction control``"
   ]
  },
  {
   "cell_type": "code",
   "execution_count": null,
   "metadata": {
    "scrolled": true
   },
   "outputs": [],
   "source": [
    "df_accidents['junction_control'].value_counts()"
   ]
  },
  {
   "cell_type": "code",
   "execution_count": null,
   "metadata": {},
   "outputs": [],
   "source": [
    "df_accidents[df_accidents.junction_control == 'Data missing or out of range'].junction_detail.unique()"
   ]
  },
  {
   "cell_type": "code",
   "execution_count": null,
   "metadata": {},
   "outputs": [],
   "source": [
    "df_accidents[df_accidents.junction_control == 'Data missing or out of range'].junction_detail.value_counts()"
   ]
  },
  {
   "cell_type": "markdown",
   "metadata": {},
   "source": [
    "## Due to the large number of objects taking the value \"Data missing or out of range\", and due to the nature of the variable itself, imputing/removing the values/objects is not an option. This is due to the fact that these values are truly missing in the real world, and thus imputing with another value will falsify the knowlede reflected by the dataset (given the junction control is a crucial aspect in a dataset like the one we are dealing with). As a result, we will not consider these to be missing values, but rather only indicators of the real world conditions. This is furthered demonstrated by observing the values of the attribute junction_detail, where it is obvious that this string value for junction_control is associated with a junction_detail that is not a junction or does not need/have junction control."
   ]
  },
  {
   "cell_type": "markdown",
   "metadata": {},
   "source": [
    "### ``Investigating the missigness mechanism of second road class``"
   ]
  },
  {
   "cell_type": "markdown",
   "metadata": {},
   "source": [
    "## In the second_road_class attribute, the value -1 signifies that this accident object is one where the second road class does not apply. "
   ]
  },
  {
   "cell_type": "code",
   "execution_count": null,
   "metadata": {
    "scrolled": true
   },
   "outputs": [],
   "source": [
    "df_accidents[df_accidents.second_road_class == '-1'].junction_detail.value_counts()"
   ]
  },
  {
   "cell_type": "markdown",
   "metadata": {},
   "source": [
    "## Thus, similar to what we did in the junction_control, we will consider these values to not be incomplete data, but rather an indication of values that are actually missing in the real world."
   ]
  },
  {
   "cell_type": "markdown",
   "metadata": {},
   "source": [
    "### ``Investigating the missigness mechanism of trunk road flag``"
   ]
  },
  {
   "cell_type": "code",
   "execution_count": null,
   "metadata": {},
   "outputs": [],
   "source": [
    "df_accidents.local_authority_highway.unique()"
   ]
  },
  {
   "cell_type": "code",
   "execution_count": null,
   "metadata": {
    "scrolled": true
   },
   "outputs": [],
   "source": [
    "attendance = df_accidents.did_police_officer_attend_scene_of_accident.value_counts().index\n",
    "\n",
    "for k,v in enumerate(attendance):\n",
    "    df_test = df_accidents[df_accidents.did_police_officer_attend_scene_of_accident == v]\n",
    "    percentage_missing =  (df_test[df_test.trunk_road_flag == 'Data missing or out of range'].shape[0]/df_test.shape[0])*100\n",
    "    print(v +\": \"+ str(percentage_missing) + \" percent missing\")\n",
    "    print(\"-----------------------------------------\")"
   ]
  },
  {
   "cell_type": "code",
   "execution_count": null,
   "metadata": {
    "scrolled": true
   },
   "outputs": [],
   "source": [
    "police_forces = df_accidents.police_force.value_counts().index\n",
    "\n",
    "for k,v in enumerate(police_forces):\n",
    "    df_test = df_accidents[df_accidents['police_force'] == v]\n",
    "    percentage_missing =  (df_test[df_test.trunk_road_flag == 'Data missing or out of range'].shape[0]/df_test.shape[0])*100\n",
    "    print(v +\": \"+ str(percentage_missing) + \" percent missing\")\n",
    "    print(\"-----------------------------------------\")"
   ]
  },
  {
   "cell_type": "markdown",
   "metadata": {},
   "source": [
    "## As can clearly be seen by the analysis done in the above cell, the missingess of the trunk_road_flag is significantly dependent on the police force filing the report. For this case, it is apparent that some police forces completely ignore filling this attribute while other rigerously stick to filling it out (which could be department policy). As a result, the probability of the flag being missing depends on the police force filing the report. "
   ]
  },
  {
   "cell_type": "markdown",
   "metadata": {},
   "source": [
    "## Trunk road flag is MAR"
   ]
  },
  {
   "cell_type": "markdown",
   "metadata": {},
   "source": [
    "### ``Investigating the missigness mechanism of lsoa of accident location``"
   ]
  },
  {
   "cell_type": "markdown",
   "metadata": {},
   "source": [
    "## In the lsoa_of_accident_location attribute, a value of -1 indicates that the lsoa is missing. It cannot be the case that this value is missing in real life since it is a location attribute. Thus, -1 is missing data that needs to be handled."
   ]
  },
  {
   "cell_type": "code",
   "execution_count": null,
   "metadata": {},
   "outputs": [],
   "source": [
    "df_accidents[(df_accidents['lsoa_of_accident_location'] == -1) | (df_accidents['lsoa_of_accident_location'] == '-1')].local_authority_district.value_counts()"
   ]
  },
  {
   "cell_type": "code",
   "execution_count": null,
   "metadata": {},
   "outputs": [],
   "source": [
    "authority_missing_lsoa = list(df_accidents[(df_accidents['lsoa_of_accident_location'] == -1) | (df_accidents['lsoa_of_accident_location'] == '-1')].local_authority_district.unique())\n",
    "authority_missing_lsoa"
   ]
  },
  {
   "cell_type": "code",
   "execution_count": null,
   "metadata": {},
   "outputs": [],
   "source": [
    "for authority in authority_missing_lsoa:\n",
    "    n_missing_values = df_accidents[((df_accidents['lsoa_of_accident_location'] == -1) | (df_accidents['lsoa_of_accident_location'] == '-1') ) & (df_accidents['local_authority_district'] == authority)].shape[0]\n",
    "    n_avialable_values = df_accidents[((df_accidents['lsoa_of_accident_location'] != -1) & (df_accidents['lsoa_of_accident_location'] != '-1')) & (df_accidents['local_authority_district'] == authority)].shape[0]\n",
    "    print('For ', authority, 'the number of missing values is ', n_missing_values, ' the number of available values is ', n_avialable_values)"
   ]
  },
  {
   "cell_type": "markdown",
   "metadata": {},
   "source": [
    "## lsoa_of_accident_location is MAR"
   ]
  },
  {
   "cell_type": "markdown",
   "metadata": {},
   "source": [
    "#### Through this analysis, it was determined that lsoa_of_accident_location is MAR. This is due to the fact that it s missingness is dependant on the local_authority_district (and other similar location attributes that hold similar values to the local authority district, such as local_authority_ons_district). This can be clearly seen in the fact that certain authority districts are much more likely to have missing values for lsoa accident location."
   ]
  },
  {
   "cell_type": "markdown",
   "metadata": {},
   "source": [
    "### ``Investigating the missigness mechanism of light_conditions``"
   ]
  },
  {
   "cell_type": "markdown",
   "metadata": {},
   "source": [
    "### In the light_conditions attribute, the \"Darkness - lighting unknown\" indicates incomplete data. It is incomplete since the light_conditions cannot be actually absent in the real world (the lights are either presenent on/off or not present), thus the data being missing in the dataset signifies incomplete data. "
   ]
  },
  {
   "cell_type": "code",
   "execution_count": null,
   "metadata": {},
   "outputs": [],
   "source": [
    "df_accidents.light_conditions.unique()"
   ]
  },
  {
   "cell_type": "code",
   "execution_count": null,
   "metadata": {
    "scrolled": true
   },
   "outputs": [],
   "source": [
    "df_accidents[df_accidents.light_conditions == 'Darkness - lighting unknown']"
   ]
  },
  {
   "cell_type": "code",
   "execution_count": null,
   "metadata": {},
   "outputs": [],
   "source": [
    "df_accidents[df_accidents.light_conditions == 'Darkness - lighting unknown'].shape\n"
   ]
  },
  {
   "cell_type": "code",
   "execution_count": null,
   "metadata": {
    "scrolled": false
   },
   "outputs": [],
   "source": [
    "attendance = df_accidents.did_police_officer_attend_scene_of_accident.value_counts().index\n",
    "\n",
    "for k,v in enumerate(attendance):\n",
    "    df_test = df_accidents[df_accidents.did_police_officer_attend_scene_of_accident == v]\n",
    "    percentage_missing =  ((df_test[df_test.light_conditions == 'Darkness - lighting unknown']).shape[0]\\\n",
    "                           /(df_test).shape[0])*100\n",
    "    print(v +\": \"+ str(percentage_missing) + \" percent missing\")\n",
    "    print(\"-----------------------------------------\")"
   ]
  },
  {
   "cell_type": "markdown",
   "metadata": {},
   "source": [
    "### As can be seen by the analysis conducted, the probability that the light_conditions is missing depends on multiple other columns. As can be seen, it is approximately double as likely for light_conditions to be missing when a police officer does not attend the scene of the accident.  This logically makes sense as there is no police officer to accurately record the light_conditions of the scene and hence the data might go missing during reporting later on."
   ]
  },
  {
   "cell_type": "markdown",
   "metadata": {},
   "source": [
    "## light_conditions is MAR\n",
    "#### Its missingness is dependent on other columns, namely did_police_officer_attend_scene_of_accident "
   ]
  },
  {
   "cell_type": "markdown",
   "metadata": {},
   "source": [
    "### ``Investigating the missigness mechanism of local_authority_highway``"
   ]
  },
  {
   "cell_type": "markdown",
   "metadata": {},
   "source": [
    " ###  In the local_authority_highway attribute, the value \"-1\" indicates incomplete data."
   ]
  },
  {
   "cell_type": "code",
   "execution_count": null,
   "metadata": {},
   "outputs": [],
   "source": [
    "df_accidents[df_accidents.trunk_road_flag == 'Non-trunk'].local_authority_highway.value_counts()"
   ]
  },
  {
   "cell_type": "markdown",
   "metadata": {},
   "source": [
    "### Initially we had hypothesized that a local_authority_highway value of -1 corresponds road_trunk_flag to be Non-trunk, meaning that for roads that are not highways (trunk_road_flag = Non-trunk) there is no local_authority highway and hence the -1 value. This does not seem to be the case after running the above query on the dataset."
   ]
  },
  {
   "cell_type": "code",
   "execution_count": null,
   "metadata": {},
   "outputs": [],
   "source": [
    "100*((df_accidents[df_accidents.local_authority_highway == '-1'].shape[0])/df_accidents.shape[0])"
   ]
  },
  {
   "cell_type": "code",
   "execution_count": null,
   "metadata": {},
   "outputs": [],
   "source": [
    "attendance = df_accidents.did_police_officer_attend_scene_of_accident.value_counts().index\n",
    "\n",
    "for k,v in enumerate(attendance):\n",
    "    df_test = df_accidents[df_accidents.did_police_officer_attend_scene_of_accident == v]\n",
    "    percentage_missing =  ((df_test[df_test.local_authority_highway == '-1']).shape[0]\\\n",
    "                           /(df_test).shape[0])*100\n",
    "    print(v +\": \"+ str(percentage_missing) + \" percent missing\")\n",
    "    print(\"-----------------------------------------\")"
   ]
  },
  {
   "cell_type": "code",
   "execution_count": null,
   "metadata": {},
   "outputs": [],
   "source": [
    "road_types = df_accidents.road_type.value_counts().index\n",
    "for k,v in enumerate(road_types):\n",
    "    df_test = df_accidents[df_accidents.road_type == v]\n",
    "    percentage_missing =  ((df_test[df_test.local_authority_highway == '-1']).shape[0]\\\n",
    "                           /(df_test).shape[0])*100\n",
    "    print(v +\": \"+ str(percentage_missing) + \" percent missing\")\n",
    "    print(\"-----------------------------------------\")"
   ]
  },
  {
   "cell_type": "code",
   "execution_count": null,
   "metadata": {
    "scrolled": false
   },
   "outputs": [],
   "source": [
    "police_forces = df_accidents.police_force.value_counts().index\n",
    "\n",
    "for k,v in enumerate(police_forces):\n",
    "    df_test = df_accidents[df_accidents['police_force'] == v]\n",
    "    percentage_missing =  ((df_test[df_test.local_authority_highway == '-1']).shape[0]\\\n",
    "                           /(df_test).shape[0])*100\n",
    "    print(v +\": \"+ str(percentage_missing) + \" percent missing\")\n",
    "    print(\"-----------------------------------------\")"
   ]
  },
  {
   "cell_type": "markdown",
   "metadata": {},
   "source": [
    "## local_authority_highway is MAR.\n",
    "#### After conduction the above analysis. It seems that only one police force, \"Suffolk\", is solely responsible for the missingness of values from the local_authority_highway attribute. This leads us confidently deduce that the missingness is dependent on the police force filing the report. "
   ]
  },
  {
   "cell_type": "markdown",
   "metadata": {},
   "source": [
    "## ``Idetifying Duplicate Records``"
   ]
  },
  {
   "cell_type": "code",
   "execution_count": null,
   "metadata": {},
   "outputs": [],
   "source": [
    "## identify complete duplicates\n",
    "duplicate = df_accidents[df_accidents.duplicated()]\n",
    " \n",
    "print(\"Duplicate Rows :\")\n",
    " \n",
    "# Print the resultant Dataframe\n",
    "duplicate"
   ]
  },
  {
   "cell_type": "code",
   "execution_count": null,
   "metadata": {
    "scrolled": true
   },
   "outputs": [],
   "source": [
    "## identify duplicates with different IDs\n",
    "duplicate = df_accidents[df_accidents.duplicated(subset = (set(df_accidents) - set(['accident_reference','accident_index'])),keep= 'first')]\n",
    " \n",
    "print(\"Duplicate Rows :\")\n",
    "duplicate = duplicate.sort_values(['longitude','longitude','date'])\n",
    "# Print the resultant Dataframe\n",
    "duplicate.head(5)\n"
   ]
  },
  {
   "cell_type": "code",
   "execution_count": null,
   "metadata": {},
   "outputs": [],
   "source": [
    "duplicate.size"
   ]
  },
  {
   "cell_type": "code",
   "execution_count": null,
   "metadata": {},
   "outputs": [],
   "source": [
    "## identify duplicates with different IDs\n",
    "duplicate = df_accidents[df_accidents.duplicated(subset = (set(df_accidents) - set(['accident_reference','accident_index'])),keep=False)]\n",
    " \n",
    "print(\"Duplicate Rows :\")\n",
    "duplicate = duplicate.sort_values(['longitude','longitude','date'])\n",
    "# Print the resultant Dataframe\n",
    "duplicate.head(5)\n"
   ]
  },
  {
   "cell_type": "code",
   "execution_count": null,
   "metadata": {},
   "outputs": [],
   "source": [
    "duplicate.size"
   ]
  },
  {
   "cell_type": "markdown",
   "metadata": {},
   "source": [
    "### This suggests that there are 175 accidental `double` entries of the same accident. Since they share everything but the ID."
   ]
  },
  {
   "cell_type": "code",
   "execution_count": null,
   "metadata": {
    "scrolled": false
   },
   "outputs": [],
   "source": [
    "duplicate = df_accidents[df_accidents.duplicated(subset = (set(df_accidents) - set(['accident_reference','accident_index'])),keep=False)]\n",
    " \n",
    "print(\"Duplicate Rows :\")\n",
    "duplicate = duplicate.sort_values(['longitude','longitude','date'])\n",
    "# Print the resultant Dataframe\n",
    "duplicate.head(5)"
   ]
  },
  {
   "cell_type": "markdown",
   "metadata": {},
   "source": [
    "## Observing outliers"
   ]
  },
  {
   "cell_type": "code",
   "execution_count": null,
   "metadata": {
    "scrolled": false
   },
   "outputs": [],
   "source": [
    "plt.boxplot(df_accidents.number_of_casualties)\n",
    "plt.show()\n",
    "sns.kdeplot(df_accidents.number_of_casualties)\n",
    "plt.show()\n"
   ]
  },
  {
   "cell_type": "code",
   "execution_count": null,
   "metadata": {},
   "outputs": [],
   "source": [
    "df_accidents.number_of_casualties.skew()"
   ]
  },
  {
   "cell_type": "code",
   "execution_count": null,
   "metadata": {
    "scrolled": true
   },
   "outputs": [],
   "source": [
    "plt.boxplot(df_accidents.number_of_vehicles)\n",
    "plt.show()\n",
    "sns.kdeplot(df_accidents.number_of_vehicles)\n",
    "plt.show()\n"
   ]
  },
  {
   "cell_type": "code",
   "execution_count": null,
   "metadata": {},
   "outputs": [],
   "source": [
    "df_accidents.number_of_vehicles.skew()"
   ]
  },
  {
   "cell_type": "code",
   "execution_count": null,
   "metadata": {},
   "outputs": [],
   "source": [
    "from sklearn.neighbors import LocalOutlierFactor\n",
    "clf = LocalOutlierFactor()\n",
    "X = df_accidents[['number_of_casualties','number_of_vehicles']].values\n",
    "y_pred = clf.fit_predict(X)\n"
   ]
  },
  {
   "cell_type": "code",
   "execution_count": null,
   "metadata": {
    "scrolled": false
   },
   "outputs": [],
   "source": [
    "plt.figure(figsize=(12,12))\n",
    "# plot the level sets of the decision function\n",
    "\n",
    "in_mask = [True if l == 1 else False for l in y_pred]\n",
    "out_mask = [True if l == -1 else False for l in y_pred]\n",
    "\n",
    "plt.title(\"Local Outlier Factor (LOF)\")\n",
    "# inliers\n",
    "a = plt.scatter(X[in_mask, 0], X[in_mask, 1], c = 'blue',\n",
    "                edgecolor = 'k', s = 30)\n",
    "# outliers\n",
    "b = plt.scatter(X[out_mask, 0], X[out_mask, 1], c = 'red',\n",
    "                edgecolor = 'k', s = 30)\n",
    "plt.axis('tight')\n",
    "plt.xlabel('number_of_casualties');\n",
    "plt.ylabel('number_of_vehicles');\n",
    "plt.yticks(np.arange(0, 35, 1.0))\n",
    "plt.xticks(np.arange(0, 90, 5.0))\n",
    "plt.show()"
   ]
  },
  {
   "cell_type": "code",
   "execution_count": null,
   "metadata": {
    "scrolled": false
   },
   "outputs": [],
   "source": [
    "outliers = list(filter(lambda x: x == True , out_mask))\n",
    "print(len(outliers))"
   ]
  },
  {
   "cell_type": "markdown",
   "metadata": {},
   "source": [
    "#### A possible method for detecting outlier is LOF (Local Outlier Factor). However, after determining the outliers using the LOF calculation and visualizing the resulting data, it was determined that the LOF method is not suitable for our case as it's reachability calculation unintuitively marks data objects that present themselves as outliers semantically. This could be the result of a multitude of factors, including, multiple points overlapping each other in the space (since both attributes are integers).  "
   ]
  },
  {
   "cell_type": "markdown",
   "metadata": {},
   "source": [
    "## Handling Missing data"
   ]
  },
  {
   "cell_type": "markdown",
   "metadata": {},
   "source": [
    "### Since missing second road numbers are likely due to the fact that they do not apply, since it is always the case that second road class is -1 for these missing values. Then we can comfortably replace these values with \"N/A\""
   ]
  },
  {
   "cell_type": "code",
   "execution_count": null,
   "metadata": {},
   "outputs": [],
   "source": [
    "df_accidents.second_road_number.unique()"
   ]
  },
  {
   "cell_type": "code",
   "execution_count": null,
   "metadata": {},
   "outputs": [],
   "source": [
    "df_accidents_complete = df_accidents.copy()\n",
    "df_accidents_complete['second_road_number'] = df_accidents.second_road_number.fillna(-1)"
   ]
  },
  {
   "cell_type": "code",
   "execution_count": null,
   "metadata": {},
   "outputs": [],
   "source": [
    "df_accidents_complete.second_road_number.unique()"
   ]
  },
  {
   "cell_type": "code",
   "execution_count": null,
   "metadata": {},
   "outputs": [],
   "source": [
    "df_accidents_complete[df_accidents_complete.second_road_number == 'N/A'].second_road_class.unique()"
   ]
  },
  {
   "cell_type": "code",
   "execution_count": null,
   "metadata": {},
   "outputs": [],
   "source": [
    "df_accidents_complete.second_road_number.isnull().mean()*100"
   ]
  },
  {
   "cell_type": "markdown",
   "metadata": {},
   "source": [
    "## Handling missing values for road_type"
   ]
  },
  {
   "cell_type": "code",
   "execution_count": null,
   "metadata": {
    "scrolled": true
   },
   "outputs": [],
   "source": [
    "df_accidents_complete.road_type.unique(),df_accidents_complete.road_type.value_counts(dropna = False)"
   ]
  },
  {
   "cell_type": "code",
   "execution_count": null,
   "metadata": {},
   "outputs": [],
   "source": [
    "f = lambda x: x.mode().values[0] if  len(x.mode().values) > 0 else np.nan\n",
    "df_accidents_complete['road_type'] = df_accidents_complete['road_type'].fillna(df_accidents_complete.groupby(['first_road_class'])['road_type'].transform(f))"
   ]
  },
  {
   "cell_type": "code",
   "execution_count": null,
   "metadata": {
    "scrolled": true
   },
   "outputs": [],
   "source": [
    "df_accidents_complete.road_type.unique(),df_accidents_complete.road_type.value_counts(dropna = False)"
   ]
  },
  {
   "cell_type": "markdown",
   "metadata": {},
   "source": [
    "### It was determined to use the stratified mode to impute the missing values for road_type. The decision of using mode imputation was built on multiple factors. First, list-wise deletion of the columns containing missing roads is not an option since the values are not MCAR, but rather MAR. Second, simply replacing by the mode would be a decent method, however, replacing by the startified mode (mode after grouping) would produce even better results. Thus, it was decided to group by the first road class, and then impute with the mode of the resulting groups. The choice of first road class was based on the fact that road_type is most likely correlated to it. For instance, roads of a certain class most likely belong to the same road_type since road class classificaction already gives a notion of the type of road. "
   ]
  },
  {
   "cell_type": "markdown",
   "metadata": {},
   "source": [
    "## Handling missing values for the weather_conditions attribute"
   ]
  },
  {
   "cell_type": "code",
   "execution_count": null,
   "metadata": {
    "scrolled": true
   },
   "outputs": [],
   "source": [
    "df_accidents_complete.weather_conditions.unique(),df_accidents_complete.weather_conditions.value_counts(dropna = False)"
   ]
  },
  {
   "cell_type": "code",
   "execution_count": null,
   "metadata": {},
   "outputs": [],
   "source": [
    "f = lambda x: x.mode().values[0] if  len(x.mode().values) > 0 else np.nan\n",
    "df_accidents_complete['weather_conditions'] = df_accidents_complete['weather_conditions'].fillna(df_accidents_complete.groupby(['road_surface_conditions'])['weather_conditions'].transform(f))"
   ]
  },
  {
   "cell_type": "code",
   "execution_count": null,
   "metadata": {
    "scrolled": true
   },
   "outputs": [],
   "source": [
    "df_accidents_complete.weather_conditions.value_counts(dropna = False)"
   ]
  },
  {
   "cell_type": "markdown",
   "metadata": {},
   "source": [
    "##  It was determined to use the stratified mode to impute the missing values for weather conditions. The decision of using mode imputation was built on multiple factors. First, list-wise deletion of the columns containing missing weather conditions is not an option since the values are not MCAR, but rather MAR. Second, simply replacing by the mode would be a decent method, however, replacing by the startified mode (mode after grouping) would produce even better results. Thus, it was decided to group by the road_surface_conditions, and then impute with the mode of the resulting groups. The choice of road_surface_conditions was based on the fact that weather conditions most likely infleunce the road_surface_conditions in a way where the road_surface_conditions are a result of the general weather conditions. For instance, if its raining then the road surface will most likely be Wet or damp."
   ]
  },
  {
   "cell_type": "markdown",
   "metadata": {},
   "source": [
    "## Handling missing values for light_conditions"
   ]
  },
  {
   "cell_type": "code",
   "execution_count": null,
   "metadata": {},
   "outputs": [],
   "source": [
    "df_accidents_complete['light_conditions'].replace('Darkness - lighting unknown', np.nan, inplace = True)"
   ]
  },
  {
   "cell_type": "code",
   "execution_count": null,
   "metadata": {
    "scrolled": true
   },
   "outputs": [],
   "source": [
    "df_accidents_complete.light_conditions.unique(),df_accidents_complete.light_conditions.value_counts(dropna = False)"
   ]
  },
  {
   "cell_type": "code",
   "execution_count": null,
   "metadata": {},
   "outputs": [],
   "source": [
    "df_accidents_daylight_dropped = df_accidents_complete.copy()\n",
    "df_accidents_daylight_dropped = df_accidents_daylight_dropped[df_accidents_daylight_dropped['light_conditions'] != 'Daylight']\n",
    "df_accidents_daylight_dropped.light_conditions.value_counts(dropna = False)"
   ]
  },
  {
   "cell_type": "code",
   "execution_count": null,
   "metadata": {},
   "outputs": [],
   "source": [
    "df_accidents_light_nandrop = df_accidents_daylight_dropped.dropna()\n",
    "df_accidents_light_nandrop.light_conditions.value_counts(dropna = False)"
   ]
  },
  {
   "cell_type": "code",
   "execution_count": null,
   "metadata": {},
   "outputs": [],
   "source": [
    "for index,row in df_accidents_complete.iterrows():\n",
    "    if pd.isnull(row['light_conditions']):\n",
    "        random_sample = df_accidents_light_nandrop.sample()\n",
    "        df_accidents_complete.loc[index, 'light_conditions'] = random_sample['light_conditions'][0]"
   ]
  },
  {
   "cell_type": "code",
   "execution_count": null,
   "metadata": {
    "scrolled": true
   },
   "outputs": [],
   "source": [
    "df_accidents_complete.light_conditions.unique(),df_accidents_complete.light_conditions.value_counts(dropna = False)"
   ]
  },
  {
   "cell_type": "markdown",
   "metadata": {},
   "source": [
    "## During the analysis of the missingness of the light condition's values, it became apparent that no single value imputation or startified group imputation would proper semantic meaning. Hence, to maintain the statistical profile of this column's distribution, we decided to impute with values sampled form same column with certain conditions (to keep the semantics of the dataset intact). Namely, we first removed the data points containing with the value daylight, since they semantically have nothing to do with the light condition in darkness. Then from the remaining darkness values, we randomly sampled a value (between lights lit, lights unlit, and no lighting) and imputed the Darkness - lighting unknown values with it. This perserved both the semantic meaning and the statisitical profile."
   ]
  },
  {
   "cell_type": "markdown",
   "metadata": {},
   "source": [
    "## Handling missing values for road_surface_conditions"
   ]
  },
  {
   "cell_type": "code",
   "execution_count": null,
   "metadata": {},
   "outputs": [],
   "source": [
    "df_accidents_complete['road_surface_conditions'].replace('Data missing or out of range', np.nan, inplace = True)"
   ]
  },
  {
   "cell_type": "code",
   "execution_count": null,
   "metadata": {
    "scrolled": true
   },
   "outputs": [],
   "source": [
    "df_accidents_complete.road_surface_conditions.unique(),df_accidents_complete.road_surface_conditions.value_counts(dropna = False)"
   ]
  },
  {
   "cell_type": "code",
   "execution_count": null,
   "metadata": {},
   "outputs": [],
   "source": [
    "f = lambda x: x.mode().values[0] if  len(x.mode().values) > 0 else np.nan\n",
    "df_accidents_complete['road_surface_conditions'] = df_accidents_complete['road_surface_conditions'].fillna(df_accidents_complete.groupby(['weather_conditions'])['road_surface_conditions'].transform(f))"
   ]
  },
  {
   "cell_type": "code",
   "execution_count": null,
   "metadata": {
    "scrolled": false
   },
   "outputs": [],
   "source": [
    "df_accidents_complete.road_surface_conditions.value_counts(dropna = False)"
   ]
  },
  {
   "cell_type": "markdown",
   "metadata": {},
   "source": [
    "##  It was decided to use the stratified mode to impute the missing values for road_surface_conditions. The decision of using mode imputation was built on multiple factors. First, list-wise deletion of the columns containing missing road_surface_conditions is not an option since the values are not MCAR, but rather MAR. Second, simply replacing by the mode would be a decent method, however, replacing by the startified mode (mode after grouping) would produce even better results. Thus, it was decided to group by the weather conditions, and then impute with the mode of the resulting groups. The choice of weather conditions was based on the fact that weather conditions most likely infleunce the road_surface_conditions in a way where the road_surface_conditions are a result of the general weather conditions. For instance, if its raining then the road surface will most likely be Wet or damp."
   ]
  },
  {
   "cell_type": "markdown",
   "metadata": {},
   "source": [
    "## Handling missing values for the road_trunk_flag"
   ]
  },
  {
   "cell_type": "code",
   "execution_count": null,
   "metadata": {
    "scrolled": false
   },
   "outputs": [],
   "source": [
    "df_accidents.trunk_road_flag.value_counts()"
   ]
  },
  {
   "cell_type": "code",
   "execution_count": null,
   "metadata": {
    "scrolled": true
   },
   "outputs": [],
   "source": [
    "df_accidents[df_accidents.trunk_road_flag == 'Data missing or out of range'].speed_limit.value_counts()"
   ]
  },
  {
   "cell_type": "code",
   "execution_count": null,
   "metadata": {},
   "outputs": [],
   "source": [
    "df_accidents[df_accidents.trunk_road_flag == 'Non-trunk'].speed_limit.value_counts()"
   ]
  },
  {
   "cell_type": "code",
   "execution_count": null,
   "metadata": {
    "scrolled": true
   },
   "outputs": [],
   "source": [
    "df_accidents[df_accidents.trunk_road_flag == 'Trunk (Roads managed by Highways England)'].speed_limit.value_counts()"
   ]
  },
  {
   "cell_type": "code",
   "execution_count": null,
   "metadata": {},
   "outputs": [],
   "source": [
    "df_accidents[df_accidents.trunk_road_flag == 'Non-trunk'].road_type.value_counts()"
   ]
  },
  {
   "cell_type": "code",
   "execution_count": null,
   "metadata": {
    "scrolled": false
   },
   "outputs": [],
   "source": [
    "df_accidents[df_accidents.trunk_road_flag == 'Trunk (Roads managed by Highways England)'].road_type.value_counts()"
   ]
  },
  {
   "cell_type": "markdown",
   "metadata": {},
   "source": [
    "### Since road_type and speed limit seem to be good indicators the trunk_road_flag. We can build a logistic regressor to infer whether the missing values for the aformentioned flag are \"Non-trunk\" or \"Trunk (Roads managed by Highways England) \"."
   ]
  },
  {
   "cell_type": "code",
   "execution_count": null,
   "metadata": {},
   "outputs": [],
   "source": [
    "from sklearn.linear_model import LogisticRegression\n",
    "from sklearn.preprocessing import OneHotEncoder\n",
    "clf = LogisticRegression()\n",
    "df_Xtrain = df_accidents_complete[df_accidents_complete.trunk_road_flag != 'Data missing or out of range']\n",
    "X_train = df_Xtrain[['speed_limit','road_type']]\n",
    "encoded_road_type = pd.get_dummies(X_train.road_type, drop_first = True)\n",
    "mappings = {\n",
    "        20:0,\n",
    "        30:1,\n",
    "        40:2,\n",
    "        50:3,\n",
    "        60:4,\n",
    "        70:5\n",
    "    }\n",
    "X_train['speed_limit'] = X_train['speed_limit'].map(mappings)\n",
    "X_train = X_train.drop('road_type', axis = 1)   \n",
    "X_train = pd.concat([X_train,encoded_road_type],axis=1)\n",
    "y_train =  pd.get_dummies(df_Xtrain.trunk_road_flag, drop_first = True)\n",
    "\n",
    "df_Xtest = df_accidents_complete[df_accidents_complete.trunk_road_flag == 'Data missing or out of range']\n",
    "X_test = df_Xtest[['speed_limit','road_type']]\n",
    "\n",
    "\n",
    "\n",
    "X_test = df_Xtest[['speed_limit','road_type']]\n",
    "encoded_road_type = pd.get_dummies(X_test.road_type, drop_first = True)\n",
    "X_test['speed_limit'] = X_test['speed_limit'].map(mappings)\n",
    "X_test = X_test.drop('road_type', axis = 1)   \n",
    "X_test = pd.concat([X_test,encoded_road_type],axis=1)\n",
    "\n",
    "\n",
    "X_train = X_train.values.tolist()\n",
    "y_train = y_train.values.tolist()\n",
    "clf.fit(X_train,y_train)\n",
    "\n",
    "\n",
    "#df_imputed = df_accidents_complete.copy()\n",
    "for index,row in df_accidents_complete.iterrows():\n",
    "    if(row.trunk_road_flag == 'Data missing or out of range'):\n",
    "        prediction = clf.predict([X_test.loc[index]])[0]\n",
    "        df_accidents_complete.loc[index,'trunk_road_flag'] = 'Trunk (Roads managed by Highways England)' if prediction == 0 else 'Non-trunk' \n",
    "    \n",
    "    \n"
   ]
  },
  {
   "cell_type": "code",
   "execution_count": null,
   "metadata": {},
   "outputs": [],
   "source": [
    "df_accidents_complete.trunk_road_flag.value_counts()"
   ]
  },
  {
   "cell_type": "code",
   "execution_count": null,
   "metadata": {},
   "outputs": [],
   "source": [
    "df_accidents_complete[df_accidents_complete.trunk_road_flag == 'Non-trunk'].speed_limit.value_counts()"
   ]
  },
  {
   "cell_type": "markdown",
   "metadata": {},
   "source": [
    "## Handling missing data for lsoa_of_accident_location attribute"
   ]
  },
  {
   "cell_type": "markdown",
   "metadata": {},
   "source": [
    "### Since the missing values were determined to not be MNAR, we can safely use imputation methods to fill the missing values in this column. A good method of filling the lsoa locations is through the use of the stratified mode imputation. This will produce acceptable results since lsoa depends on location and thus limiting the mode to groups of related in location will be sufficiently accurate."
   ]
  },
  {
   "cell_type": "code",
   "execution_count": null,
   "metadata": {
    "scrolled": true
   },
   "outputs": [],
   "source": [
    "df_accidents_complete['lsoa_of_accident_location'] = df_accidents_complete.lsoa_of_accident_location.replace([-1,'-1'], np.nan)\n",
    "sum(df_accidents_complete['lsoa_of_accident_location'].isnull())\n"
   ]
  },
  {
   "cell_type": "code",
   "execution_count": null,
   "metadata": {},
   "outputs": [],
   "source": [
    "df_accidents_complete[df_accidents_complete['lsoa_of_accident_location'].isnull()].local_authority_district.value_counts()"
   ]
  },
  {
   "cell_type": "code",
   "execution_count": null,
   "metadata": {
    "scrolled": true
   },
   "outputs": [],
   "source": [
    "## a lot of local area authority districts have all their values as -1 for the lsao and hence we cannot impute \n",
    "## lsao values with group mode\n",
    "## this is to check that the mode actually does not work\n",
    "\n",
    "# df_accidents_complete['lsoa_of_accident_location'] = df_accidents_complete['lsoa_of_accident_location'].fillna(df_accidents_complete.groupby('local_authority_district')['lsoa_of_accident_location'].transform(f))\n",
    "# df_accidents_complete.lsoa_of_accident_location.value_counts()"
   ]
  },
  {
   "cell_type": "markdown",
   "metadata": {},
   "source": [
    "### Initially, it was decided to use the local_authority_district to group the objects and then impute using the modes of the individual groups (stratified mode). However, during our analysis, it was discovered that almost all groups having any of their lsoa_of_accident_location as -1 (or missing) infact have all of their lsoa_of_accident_location as -1 (or missing). \n",
    "This is already proven analysis that lsoa_of_accident_location is MAR. However, this conclusion renders mode imputation using groups of local_authority_district useless for those groups, as not a single value is available and thus there exists no mode and there exists no value we can impute with. As a result, it was decided to group by another variable that depends on location."
   ]
  },
  {
   "cell_type": "markdown",
   "metadata": {},
   "source": [
    "### After analysing the location variables available, it was determined that using the location_easting_osgr as the grouping column is most suitable for this dataset. This is due to the fact that this column will allow us to impute with relatively accurate values since it still takes the location of the data point missing the lsoa_of_accident_location into account while imputing, but is general enough that the group we are imputing by is not empty. This method was chosen since removing the data points (list-wise deletion) was not an option due to the large amount of data that would be removed, and simply imputing using the mode would both be less accurate and would skew the distribution towards the mode. Furthermore, list-wise deletion assumes MCAR, and thus cannot be used."
   ]
  },
  {
   "cell_type": "code",
   "execution_count": null,
   "metadata": {},
   "outputs": [],
   "source": [
    "f = lambda x: x.mode().values[0] if  len(x.mode().values) > 0 else np.nan\n",
    "df_accidents_complete['lsoa_of_accident_location'] = df_accidents_complete['lsoa_of_accident_location'].fillna(df_accidents_complete.groupby('local_authority_highway')['lsoa_of_accident_location'].transform(f))"
   ]
  },
  {
   "cell_type": "code",
   "execution_count": null,
   "metadata": {},
   "outputs": [],
   "source": [
    "df_accidents_complete.lsoa_of_accident_location.isnull().mean()*100"
   ]
  },
  {
   "cell_type": "code",
   "execution_count": null,
   "metadata": {},
   "outputs": [],
   "source": [
    "sum(df_accidents_complete.lsoa_of_accident_location.isnull())"
   ]
  },
  {
   "cell_type": "code",
   "execution_count": null,
   "metadata": {},
   "outputs": [],
   "source": [
    "df_accidents_complete[df_accidents_complete['local_authority_district']=='Glasgow City'].lsoa_of_accident_location.value_counts()"
   ]
  },
  {
   "cell_type": "markdown",
   "metadata": {},
   "source": [
    "## Handling missing values for local_authority_highway"
   ]
  },
  {
   "cell_type": "code",
   "execution_count": null,
   "metadata": {},
   "outputs": [],
   "source": [
    "df_accidents_complete['local_authority_highway'].replace('-1', np.nan, inplace = True)\n",
    "f = lambda x: x.mode().values[0] if  len(x.mode().values) > 0 else np.nan\n",
    "df_accidents_complete['local_authority_highway'] = df_accidents_complete['local_authority_highway'].fillna(df_accidents_complete.groupby(['police_force'])['local_authority_highway'].transform(f))"
   ]
  },
  {
   "cell_type": "code",
   "execution_count": null,
   "metadata": {},
   "outputs": [],
   "source": [
    "df_accidents_complete['local_authority_highway'].isnull().mean()"
   ]
  },
  {
   "cell_type": "markdown",
   "metadata": {},
   "source": [
    "## It was determined that using the stratified mode after grouping by police_force is the best option for imputing the local_authority_highway. This was done since the ploice force usually handles similar accidents an operates in a specific region. Thus, imputing by the mode of the groups of police forces makes semantic sense, since we will output the most likely local authority highway for the specific police force we are dealing with."
   ]
  },
  {
   "cell_type": "markdown",
   "metadata": {},
   "source": [
    "## Handling duplicates"
   ]
  },
  {
   "cell_type": "code",
   "execution_count": null,
   "metadata": {},
   "outputs": [],
   "source": [
    "df_accidents_complete.shape"
   ]
  },
  {
   "cell_type": "code",
   "execution_count": null,
   "metadata": {},
   "outputs": [],
   "source": [
    "df_accidents_complete.drop_duplicates(set(df_accidents) - set(['accident_reference','accident_index']),inplace=True)"
   ]
  },
  {
   "cell_type": "code",
   "execution_count": null,
   "metadata": {
    "scrolled": true
   },
   "outputs": [],
   "source": [
    "df_accidents_complete.shape"
   ]
  },
  {
   "cell_type": "markdown",
   "metadata": {},
   "source": [
    "### Dropping columns"
   ]
  },
  {
   "cell_type": "markdown",
   "metadata": {},
   "source": [
    "## For the sake of compactness and dimensionality reduction, we have chosen to remove the accident_year column as it is highly redundant (1 value for the entire dataset). Moreover, this also applies to the accident_reference. On top of that, these columns are not useful for any analysis/machine learning task so we will do away with them. In case that these values are needed later on, they can always be inferred from the accident index column."
   ]
  },
  {
   "cell_type": "code",
   "execution_count": null,
   "metadata": {},
   "outputs": [],
   "source": [
    "df_accidents_complete.drop(labels=['accident_year','accident_reference'], axis=1, inplace=True)"
   ]
  },
  {
   "cell_type": "markdown",
   "metadata": {},
   "source": [
    "## If reconstructing these two dropped columns becomes of interest. We reccomend this function to separate the index column into two columns"
   ]
  },
  {
   "cell_type": "code",
   "execution_count": null,
   "metadata": {},
   "outputs": [],
   "source": [
    "def restore_year_reference(dataframe):\n",
    "    df = dataframe.copy()\n",
    "    years = []\n",
    "    references = []\n",
    "    for index,row in df.iterrows():\n",
    "        accident_year = index[:4]\n",
    "        accident_reference = index[4:]\n",
    "        years.append(accident_year)\n",
    "        references.append(accident_reference)\n",
    "    df['accident_year'] = years\n",
    "    df['accident_reference'] = references\n",
    "    return df"
   ]
  },
  {
   "cell_type": "markdown",
   "metadata": {},
   "source": [
    "### After analyzing the location_easting_osgr & location_northing_osgr attributes and what they represent. We have discovered that the data inside these columns is incomplete an ambigious. Normally, the values for both these attributes start with a prefix that represents a grid section and the following numbers represent the location insidet the grid. Keeping these values in their current state would be misleading as any aggregation that would occur in any following data analysis would aggregate values that have no proximity together and would lead to wrongful statistics. In order to rectify these columns, data integration with other data sources that give context based on location is required. However, for now, we will drop these columns till further notice.\n"
   ]
  },
  {
   "cell_type": "code",
   "execution_count": null,
   "metadata": {},
   "outputs": [],
   "source": [
    "df_accidents_complete.drop(labels=['location_easting_osgr','location_northing_osgr'], axis=1, inplace=True)"
   ]
  },
  {
   "cell_type": "code",
   "execution_count": null,
   "metadata": {},
   "outputs": [],
   "source": [
    "df_accidents_complete.head()"
   ]
  },
  {
   "cell_type": "markdown",
   "metadata": {},
   "source": [
    "## Findings and conclusions"
   ]
  },
  {
   "cell_type": "code",
   "execution_count": null,
   "metadata": {},
   "outputs": [],
   "source": []
  },
  {
   "cell_type": "code",
   "execution_count": null,
   "metadata": {},
   "outputs": [],
   "source": []
  },
  {
   "cell_type": "markdown",
   "metadata": {},
   "source": [
    "## Handling outliers"
   ]
  },
  {
   "cell_type": "code",
   "execution_count": null,
   "metadata": {},
   "outputs": [],
   "source": [
    "zcas = np.abs(stats.zscore(df_accidents_complete.number_of_casualties))\n"
   ]
  },
  {
   "cell_type": "markdown",
   "metadata": {},
   "source": [
    "## `` This method takes in the zscores of a column and returns (100-threshold)th percentile in the form of a boolean array.``"
   ]
  },
  {
   "cell_type": "code",
   "execution_count": null,
   "metadata": {},
   "outputs": [],
   "source": [
    "def getOptimalzCutOff(zScores,threshold):\n",
    "    for i in range(1,10):\n",
    "        filtered_entries = zScores < i\n",
    "        percentage_dropped =100 - ((sum(filtered_entries)/len(filtered_entries))*100)\n",
    "        if(percentage_dropped <= threshold):\n",
    "            return filtered_entries"
   ]
  },
  {
   "cell_type": "code",
   "execution_count": null,
   "metadata": {},
   "outputs": [],
   "source": [
    "filtered_entries_cas = getOptimalzCutOff(zcas,1)"
   ]
  },
  {
   "cell_type": "code",
   "execution_count": null,
   "metadata": {},
   "outputs": [],
   "source": [
    "df_cleaned_filtered_outliers = df_accidents_complete[filtered_entries_cas]\n"
   ]
  },
  {
   "cell_type": "code",
   "execution_count": null,
   "metadata": {
    "scrolled": true
   },
   "outputs": [],
   "source": [
    "plt.boxplot(df_cleaned_filtered_outliers.number_of_casualties)\n",
    "plt.show()\n",
    "sns.kdeplot(df_cleaned_filtered_outliers.number_of_casualties)\n",
    "plt.show()\n"
   ]
  },
  {
   "cell_type": "code",
   "execution_count": null,
   "metadata": {},
   "outputs": [],
   "source": [
    "df_accidents_complete.shape,df_cleaned_filtered_outliers.shape"
   ]
  },
  {
   "cell_type": "code",
   "execution_count": null,
   "metadata": {
    "scrolled": true
   },
   "outputs": [],
   "source": [
    "df_outliers_cas = df_accidents_complete[zcas >= 5]\n",
    "df_outliers_cas.number_of_casualties.value_counts()"
   ]
  },
  {
   "cell_type": "code",
   "execution_count": null,
   "metadata": {},
   "outputs": [],
   "source": [
    "zcar = np.abs(stats.zscore(df_cleaned_filtered_outliers.number_of_vehicles))"
   ]
  },
  {
   "cell_type": "code",
   "execution_count": null,
   "metadata": {},
   "outputs": [],
   "source": [
    "filtered_entries_car = getOptimalzCutOff(zcar,1)"
   ]
  },
  {
   "cell_type": "code",
   "execution_count": null,
   "metadata": {},
   "outputs": [],
   "source": [
    "df_outliers_car = df_cleaned_filtered_outliers[zcar >= 3]\n"
   ]
  },
  {
   "cell_type": "code",
   "execution_count": null,
   "metadata": {},
   "outputs": [],
   "source": [
    "df_cleaned_filtered_outliers = df_cleaned_filtered_outliers[filtered_entries_car]\n"
   ]
  },
  {
   "cell_type": "code",
   "execution_count": null,
   "metadata": {},
   "outputs": [],
   "source": [
    "df_outliers_car.number_of_vehicles.value_counts()"
   ]
  },
  {
   "cell_type": "code",
   "execution_count": null,
   "metadata": {},
   "outputs": [],
   "source": [
    "df_outliers = pd.concat([df_outliers_cas,df_outliers_car],axis = 0)\n",
    "df_outliers.shape"
   ]
  },
  {
   "cell_type": "code",
   "execution_count": null,
   "metadata": {},
   "outputs": [],
   "source": [
    "df_accidents_complete.shape,df_cleaned_filtered_outliers.shape"
   ]
  },
  {
   "cell_type": "code",
   "execution_count": null,
   "metadata": {},
   "outputs": [],
   "source": [
    "plt.boxplot(df_cleaned_filtered_outliers.number_of_vehicles)\n",
    "plt.show()\n",
    "sns.kdeplot(df_cleaned_filtered_outliers.number_of_vehicles)\n",
    "plt.show()\n"
   ]
  },
  {
   "cell_type": "code",
   "execution_count": null,
   "metadata": {},
   "outputs": [],
   "source": [
    "df_cleaned_filtered_outliers.isnull().mean()*100"
   ]
  },
  {
   "cell_type": "code",
   "execution_count": null,
   "metadata": {},
   "outputs": [],
   "source": []
  },
  {
   "cell_type": "code",
   "execution_count": null,
   "metadata": {},
   "outputs": [],
   "source": []
  },
  {
   "cell_type": "markdown",
   "metadata": {},
   "source": [
    "## Findings and conclusions"
   ]
  },
  {
   "cell_type": "code",
   "execution_count": null,
   "metadata": {},
   "outputs": [],
   "source": []
  },
  {
   "cell_type": "code",
   "execution_count": null,
   "metadata": {},
   "outputs": [],
   "source": []
  },
  {
   "cell_type": "code",
   "execution_count": null,
   "metadata": {},
   "outputs": [],
   "source": []
  },
  {
   "cell_type": "markdown",
   "metadata": {},
   "source": [
    "# 4 - Data transformation"
   ]
  },
  {
   "cell_type": "markdown",
   "metadata": {},
   "source": [
    "## 4.1 - Discretization"
   ]
  },
  {
   "cell_type": "markdown",
   "metadata": {},
   "source": [
    "### According to the ISO standard when it comes to dates, specifically the ISO 8601, if the 1st day of the year is on a Friday, Saturday, or Sunday, it is assigned week 52 or week 53 of the previous year. The ISO week numbering starts with 1 at the first Monday of the year. Since our dataset is only concerned with a specific year, it was decided to assign those dates 0 rather than 52 or 53. This will allow us to abide as much as possible by the ISO standard without introducing the confusion of having another year in a dataset with only one year."
   ]
  },
  {
   "cell_type": "code",
   "execution_count": null,
   "metadata": {},
   "outputs": [],
   "source": [
    " import datetime\n",
    "# df_cleaned_filtered_outliers['Week number'] = df_cleaned_filtered_outliers['date'].dt.isocalendar().week\n",
    "df_cleaned_filtered_outliers['Week number'] = df_cleaned_filtered_outliers['date'].dt.strftime(\"%U\").astype(int)\n",
    "df_cleaned_filtered_outliers['date'] = df_cleaned_filtered_outliers['date'].dt.date"
   ]
  },
  {
   "cell_type": "code",
   "execution_count": null,
   "metadata": {
    "scrolled": true
   },
   "outputs": [],
   "source": [
    "df_cleaned_filtered_outliers['Week number'].value_counts()"
   ]
  },
  {
   "cell_type": "code",
   "execution_count": null,
   "metadata": {
    "scrolled": true
   },
   "outputs": [],
   "source": [
    "df_cleaned_filtered_outliers.head()"
   ]
  },
  {
   "cell_type": "code",
   "execution_count": null,
   "metadata": {},
   "outputs": [],
   "source": [
    "Values = []\n",
    "Encodings =[]\n",
    "df_cleaned_filtered_outliers_encoded_normalised_augmented['Week number'] =df_cleaned_filtered_outliers_encoded_normalised_augmented['Week number'].astype(int)\n",
    "num_weeks = df_cleaned_filtered_outliers_encoded_normalised_augmented['Week number'].max()\n",
    "for weeknumber in range(0,num_weeks+1):\n",
    "    dates = df_cleaned_filtered_outliers_encoded_normalised_augmented[df_cleaned_filtered_outliers_encoded_normalised_augmented['Week number']== weeknumber].date.unique()\n",
    "    if(len(dates)!=0):\n",
    "        dates.sort()\n",
    "        Values.append(str(dates[0]) + ' - ' +str(dates[len(dates)-1]))\n",
    "        Encodings.append(weeknumber)\n",
    "look_up = {\n",
    "    'column_name': 'Week num',\n",
    "    'Value': Values,\n",
    "    'Encoding': Encodings\n",
    "    \n",
    "}\n",
    "\n"
   ]
  },
  {
   "cell_type": "code",
   "execution_count": null,
   "metadata": {},
   "outputs": [],
   "source": [
    "look_up_table = pd.DataFrame()\n",
    "look_up_table = pd.concat([look_up_table,pd.DataFrame(look_up)])\n"
   ]
  },
  {
   "cell_type": "markdown",
   "metadata": {},
   "source": [
    "## 4.11 - Findings and conclusions"
   ]
  },
  {
   "cell_type": "markdown",
   "metadata": {},
   "source": [
    "## By leveraging the power of pandas series, we were able to quikcly extract a new series that represents the week number using isocalendar and the datetime library"
   ]
  },
  {
   "cell_type": "code",
   "execution_count": null,
   "metadata": {},
   "outputs": [],
   "source": []
  },
  {
   "cell_type": "code",
   "execution_count": null,
   "metadata": {},
   "outputs": [],
   "source": []
  },
  {
   "cell_type": "markdown",
   "metadata": {},
   "source": [
    "## 4.2 - Encoding"
   ]
  },
  {
   "cell_type": "code",
   "execution_count": null,
   "metadata": {},
   "outputs": [],
   "source": [
    "def OneHotEncode(dataframe,column_name,column_to_drop = None,drop_first = False):\n",
    "    df = dataframe.copy()\n",
    "    if(drop_first):\n",
    "        encoded = pd.get_dummies(df[column_name],prefix = column_name,drop_first = drop_first)\n",
    "    else:\n",
    "        encoded = pd.get_dummies(df[column_name],prefix = column_name)\n",
    "    if(column_to_drop != None):\n",
    "        encoded.drop(str(column_name)+'_'+column_to_drop, axis = 1, inplace=True)\n",
    "    df.drop(column_name,axis =1, inplace = True)\n",
    "    df = pd.concat([df,encoded],axis = 1)\n",
    "    \n",
    "    \n",
    "    \n",
    "    \n",
    "    return df;"
   ]
  },
  {
   "cell_type": "code",
   "execution_count": null,
   "metadata": {},
   "outputs": [],
   "source": [
    "def LabelEncode(dataframe,column_name,mapping={}):\n",
    "    le_namemapping ={}\n",
    "    look_up = {}\n",
    "    df = dataframe.copy()\n",
    "    if(len(mapping)!=0):\n",
    "        df[column_name] = df[column_name].map(mapping)\n",
    "        look_up = {\n",
    "            'column_name': column_name,\n",
    "            'Value': mapping.keys(),\n",
    "            'Encoding': mapping.values()\n",
    "        }\n",
    "    else:\n",
    "        le = preprocessing.LabelEncoder()\n",
    "        le.fit(df[column_name])\n",
    "        \n",
    "        le_namemapping = dict(zip(le.classes_, le.transform(le.classes_)))\n",
    "        look_up = {\n",
    "            'column_name': column_name,\n",
    "            'Value': le.classes_ ,\n",
    "            'Encoding': le.transform(le.classes_)\n",
    "        }\n",
    "        df[column_name] = df[column_name].map(le_namemapping)\n",
    "    look_up = pd.DataFrame(look_up)\n",
    "    return df,look_up   \n",
    "        "
   ]
  },
  {
   "cell_type": "code",
   "execution_count": null,
   "metadata": {},
   "outputs": [],
   "source": [
    "df_cleaned_filtered_outliers.columns"
   ]
  },
  {
   "cell_type": "markdown",
   "metadata": {},
   "source": [
    "## ``Encoding the accident_severity attribute``\n",
    "### Since accident severity is ordinal, we can safely use label encoding"
   ]
  },
  {
   "cell_type": "code",
   "execution_count": null,
   "metadata": {},
   "outputs": [],
   "source": [
    "df_cleaned_filtered_outliers_encoded = df_cleaned_filtered_outliers.copy()"
   ]
  },
  {
   "cell_type": "code",
   "execution_count": null,
   "metadata": {},
   "outputs": [],
   "source": [
    "df_cleaned_filtered_outliers_encoded['accident_severity'].value_counts()"
   ]
  },
  {
   "cell_type": "code",
   "execution_count": null,
   "metadata": {},
   "outputs": [],
   "source": [
    "mappings = {\n",
    "        'Slight':1,\n",
    "        'Serious':2,\n",
    "        'Fatal':3\n",
    "    }\n",
    "\n",
    "df_cleaned_filtered_outliers_encoded,mappings = LabelEncode(df_cleaned_filtered_outliers_encoded,'accident_severity',mappings)\n",
    "df_cleaned_filtered_outliers_encoded['accident_severity'].value_counts()"
   ]
  },
  {
   "cell_type": "code",
   "execution_count": null,
   "metadata": {},
   "outputs": [],
   "source": [
    "look_up_table = pd.concat([look_up_table,mappings],axis = 0)"
   ]
  },
  {
   "cell_type": "markdown",
   "metadata": {},
   "source": [
    "## ``Encoding first road class``\n",
    "### Since there is no inherent order between road classes and since the cardinality of the road class column is quite low, we can safely use one hot encoding. We can also drop the last column to decrease the dimensionality of the output dataset since the last column can be easily inferred  from the abscense of all other classifications. In this case we will drop the column that encodes the value \"unclassified\" as it makes the most semantic meaning."
   ]
  },
  {
   "cell_type": "code",
   "execution_count": null,
   "metadata": {},
   "outputs": [],
   "source": [
    "df_cleaned_filtered_outliers_encoded = OneHotEncode(df_cleaned_filtered_outliers_encoded,'first_road_class','Unclassified')\n",
    "df_cleaned_filtered_outliers_encoded.head()"
   ]
  },
  {
   "cell_type": "code",
   "execution_count": null,
   "metadata": {},
   "outputs": [],
   "source": [
    "df_cleaned_filtered_outliers_encoded.head()"
   ]
  },
  {
   "cell_type": "markdown",
   "metadata": {},
   "source": [
    "## ``Encoding second road class``\n",
    "### Since there is no inherent order between road classes and since the cardinality of the road class column is quite low, we can safely use one hot encoding. We can also drop the last column to decrease the dimensionality of the output dataset since the last column can be easily inferred from the abscense of all other classifications. In this case, we will drop the column that encodes the value \"-1\" which means that the value is missing as this makes the most semantic meaning.."
   ]
  },
  {
   "cell_type": "code",
   "execution_count": null,
   "metadata": {
    "scrolled": true
   },
   "outputs": [],
   "source": [
    "df_cleaned_filtered_outliers_encoded = OneHotEncode(df_cleaned_filtered_outliers_encoded,'second_road_class','-1')\n",
    "df_cleaned_filtered_outliers_encoded.head()\n"
   ]
  },
  {
   "cell_type": "markdown",
   "metadata": {},
   "source": [
    "## `` Encoding the trunk_road_flag``\n",
    "### Since trunk road flag is a binary attribute, we will choose binary encoding."
   ]
  },
  {
   "cell_type": "code",
   "execution_count": null,
   "metadata": {},
   "outputs": [],
   "source": [
    "df_cleaned_filtered_outliers_encoded.trunk_road_flag.unique()"
   ]
  },
  {
   "cell_type": "code",
   "execution_count": null,
   "metadata": {},
   "outputs": [],
   "source": [
    "mappings = {\n",
    "        'Non-trunk':0,\n",
    "        'Trunk (Roads managed by Highways England)':1,\n",
    "    }\n",
    "df_cleaned_filtered_outliers_encoded,mappings = LabelEncode(df_cleaned_filtered_outliers_encoded,'trunk_road_flag',mappings)\n",
    "df_cleaned_filtered_outliers_encoded.head()"
   ]
  },
  {
   "cell_type": "code",
   "execution_count": null,
   "metadata": {},
   "outputs": [],
   "source": [
    "look_up_table = pd.concat([look_up_table,mappings],axis = 0)"
   ]
  },
  {
   "cell_type": "markdown",
   "metadata": {},
   "source": [
    "## `` Encoding  did_police_officer_attend_scene_of_accident``\n",
    "### Since did_police_officer_attend_scene_of_accident is a binary attribute, we will choose binary encoding."
   ]
  },
  {
   "cell_type": "code",
   "execution_count": null,
   "metadata": {},
   "outputs": [],
   "source": [
    "df_cleaned_filtered_outliers_encoded.did_police_officer_attend_scene_of_accident.unique()"
   ]
  },
  {
   "cell_type": "code",
   "execution_count": null,
   "metadata": {},
   "outputs": [],
   "source": [
    "mappings = {\n",
    "        'No':0,\n",
    "        'Yes':1,\n",
    "    }\n",
    "df_cleaned_filtered_outliers_encoded,mappings = LabelEncode(df_cleaned_filtered_outliers_encoded,'did_police_officer_attend_scene_of_accident',mappings)\n",
    "df_cleaned_filtered_outliers_encoded.head()"
   ]
  },
  {
   "cell_type": "code",
   "execution_count": null,
   "metadata": {},
   "outputs": [],
   "source": [
    "look_up_table = pd.concat([look_up_table,mappings],axis = 0)"
   ]
  },
  {
   "cell_type": "markdown",
   "metadata": {},
   "source": [
    "## ``Encoding Day of the week``\n",
    "### If we use Label encoding here, each day of the week would be assigned a numeric label from 1-7, and because of this, any model will consequently identify relationships such as Sunday(6) > Saturday(5). Some models, for example, a linear regressor, will assume that Sunday (6) is bigger (or carries more weight) than all other days in the week. This is misleading. For now, this assumption does not make much sense and the sense of the ordinality can be ignored since we have more meaningful relationships between their values that can be inferred without label encoding. since the cardinality of the road class column is quite low, we can safely use one hot encoding. We can also drop the last column to decrease the dimensionality of the output dataset since the last column can be easily inferred from the rest. Here, it is the case that no column can be favored for dropping as they all give the same semantic meaning.\n"
   ]
  },
  {
   "cell_type": "code",
   "execution_count": null,
   "metadata": {
    "scrolled": false
   },
   "outputs": [],
   "source": [
    "df_cleaned_filtered_outliers_encoded = OneHotEncode(df_cleaned_filtered_outliers_encoded,'day_of_week',drop_first=True)\n",
    "df_cleaned_filtered_outliers_encoded.head()"
   ]
  },
  {
   "cell_type": "markdown",
   "metadata": {},
   "source": [
    "## `` Encoding urban_or_rural_area``\n",
    "### Since urban_or_rural_area is a binary attribute, we will choose binary encoding. We will also change the column name to serve as an indicator attribute for urban"
   ]
  },
  {
   "cell_type": "code",
   "execution_count": null,
   "metadata": {},
   "outputs": [],
   "source": [
    "df_cleaned_filtered_outliers_encoded.urban_or_rural_area.value_counts()"
   ]
  },
  {
   "cell_type": "code",
   "execution_count": null,
   "metadata": {
    "scrolled": true
   },
   "outputs": [],
   "source": [
    "mappings = {\n",
    "        'Rural':0,\n",
    "        'Urban':1,\n",
    "    }\n",
    "df_cleaned_filtered_outliers_encoded,mappings = LabelEncode(df_cleaned_filtered_outliers_encoded,'urban_or_rural_area',mappings)\n",
    "df_cleaned_filtered_outliers_encoded.rename(columns = {'urban_or_rural_area':'is_Urban'}, inplace = True)\n",
    "df_cleaned_filtered_outliers_encoded.head()"
   ]
  },
  {
   "cell_type": "code",
   "execution_count": null,
   "metadata": {},
   "outputs": [],
   "source": [
    "look_up_table = pd.concat([look_up_table,mappings],axis = 0)"
   ]
  },
  {
   "cell_type": "markdown",
   "metadata": {},
   "source": [
    "## ``Encoding road_surface_conditions``\n",
    "### We will encode road_surface_conditions using one-hot encoding. It was decided to use this method since the values of the road_surface_conditions have no inherent order to them. Thus, using label encoding would be misleading since it will introduce order. Furthermore, the caridnality of the attribute is relatively low, so using one-hot encoding will not excessively increase dimensionality. Finally, we dropped one of the columns to decrease the dimensionality of the output dataset since the last column can be easily inferred from the rest. In this case, we will favor dropping the column that represents a dry road surface as it is considered as the base case (no rain or snow or floods). Hence, it can be easily inferred from the absence of the aformentioned weather phenomenon.\n"
   ]
  },
  {
   "cell_type": "code",
   "execution_count": null,
   "metadata": {},
   "outputs": [],
   "source": [
    "df_cleaned_filtered_outliers_encoded = OneHotEncode(df_cleaned_filtered_outliers_encoded,'road_surface_conditions',drop_first=True)\n",
    "df_cleaned_filtered_outliers_encoded.head()"
   ]
  },
  {
   "cell_type": "markdown",
   "metadata": {},
   "source": [
    "## ``Encoding road_type``\n",
    "### We will encode road_type using one-hot encoding. It was decided to use this method since the values of the road_type have no inherent order to them. Thus, using label encoding would be misleading since it will introduce order. Furthermore, the caridnality of the attribute is relatively low, so using one-hot encoding will not excessively increase dimensionality. Finally, we dropped one of the columns to decrease the dimensionality of the output dataset since the last column can be easily inferred from the rest. There is no column here that could be favored to drop so we will intuitively dropped the first column.\n"
   ]
  },
  {
   "cell_type": "code",
   "execution_count": null,
   "metadata": {},
   "outputs": [],
   "source": [
    "df_cleaned_filtered_outliers_encoded = OneHotEncode(df_cleaned_filtered_outliers_encoded,'road_type',drop_first=True)\n",
    "df_cleaned_filtered_outliers_encoded.head()"
   ]
  },
  {
   "cell_type": "markdown",
   "metadata": {},
   "source": [
    "## ``Encoding light_conditions``\n",
    "### We will encode light_conditions using one-hot encoding. It was decided to use this method since the values of the light_conditions have no inherent order to them. Thus, using label encoding would be misleading since it will introduce order. Furthermore, the caridnality of the attribute is relatively low, so using one-hot encoding will not excessively increase dimensionality. Finally, we dropped one of the columns to decrease the dimensionality of the output dataset since the last column can be easily inferred from the rest. Here, it is another case of dropping the column that represents a base case value. Daylight here can be easily inferred from the lack or absence of the several darkness columns.\n"
   ]
  },
  {
   "cell_type": "code",
   "execution_count": null,
   "metadata": {
    "scrolled": true
   },
   "outputs": [],
   "source": [
    "df_cleaned_filtered_outliers_encoded = OneHotEncode(df_cleaned_filtered_outliers_encoded,'light_conditions',column_to_drop='Daylight')\n",
    "df_cleaned_filtered_outliers_encoded.head()"
   ]
  },
  {
   "cell_type": "markdown",
   "metadata": {},
   "source": [
    "## ``Encoding weather_conditions``\n",
    "### We will encode weather_conditions using one-hot encoding. It was decided to use this method since the values of the weather_conditions have no inherent order to them. Thus, using label encoding would be misleading since it will introduce order. Furthermore, the caridnality of the attribute is relatively low, so using one-hot encoding will not excessively increase dimensionality. Finally, we dropped one of the columns to decrease the dimensionality of the output dataset since the last column can be easily inferred from the rest. A decision here was made to drop the other column as it is very easy to interpret the other category from the absence of the rest of the categories.\n"
   ]
  },
  {
   "cell_type": "code",
   "execution_count": null,
   "metadata": {
    "scrolled": true
   },
   "outputs": [],
   "source": [
    "df_cleaned_filtered_outliers_encoded = OneHotEncode(df_cleaned_filtered_outliers_encoded,'weather_conditions',column_to_drop=\"Other\")\n",
    "df_cleaned_filtered_outliers_encoded.head()"
   ]
  },
  {
   "cell_type": "markdown",
   "metadata": {},
   "source": [
    "## ``Encoding junction_detail``\n",
    "### We will encode junction_detail using one-hot encoding. It was decided to use this method since the values of the junction_detail have no inherent order to them. Thus, using label encoding would be misleading since it will introduce order. Furthermore, the caridnality of the attribute is relatively low, so using one-hot encoding will not excessively increase dimensionality. Finally, we dropped one of the columns to decrease the dimensionality of the output dataset since the last column can be easily inferred from the rest. A decision here was made to drop the other column as it is very easy to interpret the other category from the absence of the rest of the categories.\n"
   ]
  },
  {
   "cell_type": "code",
   "execution_count": null,
   "metadata": {},
   "outputs": [],
   "source": [
    "df_cleaned_filtered_outliers_encoded = OneHotEncode(df_cleaned_filtered_outliers_encoded,'junction_detail',column_to_drop='Other junction')\n",
    "df_cleaned_filtered_outliers_encoded.head()"
   ]
  },
  {
   "cell_type": "markdown",
   "metadata": {},
   "source": [
    "## ``Encoding junction_control``\n",
    "### We will encode junction_control using one-hot encoding. It was decided to use this method since the values of the junction_control have no inherent order to them. Thus, using label encoding would be misleading since it will introduce order. Furthermore, the caridnality of the attribute is relatively low, so using one-hot encoding will not excessively increase dimensionality. Finally, we dropped one of the columns to decrease the dimensionality of the output dataset since the last column can be easily inferred from the rest. A decision here was made to drop the 'Data missing or out of range' column as it is very easy to interpret the other category from the absence of the rest of the categories. \n"
   ]
  },
  {
   "cell_type": "code",
   "execution_count": null,
   "metadata": {},
   "outputs": [],
   "source": [
    "df_cleaned_filtered_outliers_encoded = OneHotEncode(df_cleaned_filtered_outliers_encoded,'junction_control',column_to_drop='Data missing or out of range')\n",
    "df_cleaned_filtered_outliers_encoded.head()"
   ]
  },
  {
   "cell_type": "markdown",
   "metadata": {},
   "source": [
    "## ``Encoding pedestrian_crossing_human_control``\n",
    "### We will encode pedestrian_crossing_human_control using one-hot encoding. It was decided to use this method since the values of the pedestrian_crossing_human_control have no inherent order to them. Thus, using label encoding would be misleading since it will introduce order. Furthermore, the caridnality of the attribute is relatively low, so using one-hot encoding will not excessively increase dimensionality. Finally, we dropped one of the columns to decrease the dimensionality of the output dataset since the last column can be easily inferred from the rest. A decision here was made to drop the 'None within 50 metres' column as it is very easy to interpret the other category from the absence of the rest of the categories. \n"
   ]
  },
  {
   "cell_type": "code",
   "execution_count": null,
   "metadata": {
    "scrolled": true
   },
   "outputs": [],
   "source": [
    "df_cleaned_filtered_outliers_encoded = OneHotEncode(df_cleaned_filtered_outliers_encoded,'pedestrian_crossing_human_control',column_to_drop='None within 50 metres ')\n",
    "df_cleaned_filtered_outliers_encoded.head()"
   ]
  },
  {
   "cell_type": "markdown",
   "metadata": {},
   "source": [
    "## ``Encoding pedestrian_crossing_physical_facilities``\n",
    "### We will encode pedestrian_crossing_physical_facilities using one-hot encoding. It was decided to use this method since the values of the pedestrian_crossing_physical_facilities have no inherent order to them. Thus, using label encoding would be misleading since it will introduce order. Furthermore, the caridnality of the attribute is relatively low, so using one-hot encoding will not excessively increase dimensionality. Finally, we dropped one of the columns to decrease the dimensionality of the output dataset since the last column can be easily inferred from the rest. A decision here was made to drop the 'No physical crossing facilities within 50 metres' column as it is very easy to interpret the other category from the absence of the rest of the categories. \n"
   ]
  },
  {
   "cell_type": "code",
   "execution_count": null,
   "metadata": {
    "scrolled": false
   },
   "outputs": [],
   "source": [
    "df_cleaned_filtered_outliers_encoded = OneHotEncode(df_cleaned_filtered_outliers_encoded,'pedestrian_crossing_physical_facilities',column_to_drop='No physical crossing facilities within 50 metres')\n",
    "df_cleaned_filtered_outliers_encoded.head()"
   ]
  },
  {
   "cell_type": "markdown",
   "metadata": {},
   "source": [
    "## ``Encoding special_conditions_at_site``\n",
    "### We will encode special_conditions_at_site using one-hot encoding. It was decided to use this method since the values of the special_conditions_at_site have no inherent order to them. Thus, using label encoding would be misleading since it will introduce order. Furthermore, the caridnality of the attribute is relatively low, so using one-hot encoding will not excessively increase dimensionality. Finally, we dropped one of the columns to decrease the dimensionality of the output dataset since the last column can be easily inferred from the rest. A decision here was made to drop the 'None' column as it is very easy to interpret the other category from the absence of the rest of the categories. \n"
   ]
  },
  {
   "cell_type": "code",
   "execution_count": null,
   "metadata": {},
   "outputs": [],
   "source": [
    "df_cleaned_filtered_outliers_encoded = OneHotEncode(df_cleaned_filtered_outliers_encoded,'special_conditions_at_site',column_to_drop='None')\n",
    "df_cleaned_filtered_outliers_encoded.head()"
   ]
  },
  {
   "cell_type": "markdown",
   "metadata": {},
   "source": [
    "## ``Encoding carriageway_hazards``\n",
    "### We will encode carriageway_hazards using one-hot encoding. It was decided to use this method since the values of the carriageway_hazards have no inherent order to them. Thus, using label encoding would be misleading since it will introduce order. Furthermore, the caridnality of the attribute is relatively low, so using one-hot encoding will not excessively increase dimensionality. Finally, we dropped one of the columns to decrease the dimensionality of the output dataset since the last column can be easily inferred from the rest. A decision here was made to drop the 'None' column as it is very easy to interpret the other category from the absence of the rest of the categories. \n",
    "\n"
   ]
  },
  {
   "cell_type": "code",
   "execution_count": null,
   "metadata": {},
   "outputs": [],
   "source": [
    "df_cleaned_filtered_outliers_encoded = OneHotEncode(df_cleaned_filtered_outliers_encoded,'carriageway_hazards',column_to_drop='None')\n",
    "df_cleaned_filtered_outliers_encoded.head()"
   ]
  },
  {
   "cell_type": "code",
   "execution_count": null,
   "metadata": {},
   "outputs": [],
   "source": []
  },
  {
   "cell_type": "code",
   "execution_count": null,
   "metadata": {},
   "outputs": [],
   "source": []
  },
  {
   "cell_type": "markdown",
   "metadata": {},
   "source": [
    "## ``Encoding police_force``\n",
    "### Since there is no inherent order to the police force column, one-hot encoding would generally be preferred. However, given the massive cardinality of this column and the fact that that all the values appear with significant frequencies in the dataset, we cannot reccommend the use of one-hot encoding or one-hot encoding of frequent categories. Thus, although it is not  completely optimal, we will opt to label encode this column."
   ]
  },
  {
   "cell_type": "code",
   "execution_count": null,
   "metadata": {},
   "outputs": [],
   "source": [
    "df_cleaned_filtered_outliers_encoded,mappings = LabelEncode(df_cleaned_filtered_outliers_encoded,'police_force')\n",
    "df_cleaned_filtered_outliers_encoded.head()"
   ]
  },
  {
   "cell_type": "code",
   "execution_count": null,
   "metadata": {},
   "outputs": [],
   "source": [
    "look_up_table = pd.concat([look_up_table,mappings],axis = 0)"
   ]
  },
  {
   "cell_type": "markdown",
   "metadata": {},
   "source": [
    "## ``Encoding local_authority_district``\n",
    "### Since there is no inherent order to the local_authority_district column, one-hot encoding would generally be preferred. However, given the massive cardinality of this column and the fact that that all the values appear with significant frequencies in the dataset, we cannot reccommend the use of one-hot encoding or one-hot encoding of frequent categories. Thus, although it is not  completely optimal, we will opt to label encode this column."
   ]
  },
  {
   "cell_type": "code",
   "execution_count": null,
   "metadata": {},
   "outputs": [],
   "source": [
    "df_cleaned_filtered_outliers_encoded,mappings = LabelEncode(df_cleaned_filtered_outliers_encoded,'local_authority_district')\n",
    "df_cleaned_filtered_outliers_encoded.head()"
   ]
  },
  {
   "cell_type": "code",
   "execution_count": null,
   "metadata": {
    "scrolled": false
   },
   "outputs": [],
   "source": [
    "mappings"
   ]
  },
  {
   "cell_type": "markdown",
   "metadata": {},
   "source": [
    "## ``Encoding local_authority_ons_district``\n",
    "### Since there is no inherent order to the local_authority_ons_district column, one-hot encoding would generally be preferred. However, given the massive cardinality of this column and the fact that that all the values appear with significant frequencies in the dataset, we cannot reccommend the use of one-hot encoding or one-hot encoding of frequent categories. Thus, although it is not  completely optimal, we will opt to label encode this column."
   ]
  },
  {
   "cell_type": "code",
   "execution_count": null,
   "metadata": {},
   "outputs": [],
   "source": [
    "df_cleaned_filtered_outliers_encoded,mappings = LabelEncode(df_cleaned_filtered_outliers_encoded,'local_authority_ons_district')\n",
    "df_cleaned_filtered_outliers_encoded.head()"
   ]
  },
  {
   "cell_type": "code",
   "execution_count": null,
   "metadata": {
    "scrolled": false
   },
   "outputs": [],
   "source": [
    "look_up_table = pd.concat([look_up_table,mappings],axis = 0)"
   ]
  },
  {
   "cell_type": "markdown",
   "metadata": {},
   "source": [
    "## ``Encoding local_authority_highway``\n",
    "### Since there is no inherent order to the local_authority_highway column, one-hot encoding would generally be preferred. However, given the massive cardinality of this column and the fact that that all the values appear with significant frequencies in the dataset, we cannot reccommend the use of one-hot encoding or one-hot encoding of frequent categories. Thus, although it is not  completely optimal, we will opt to label encode this column."
   ]
  },
  {
   "cell_type": "code",
   "execution_count": null,
   "metadata": {
    "scrolled": false
   },
   "outputs": [],
   "source": [
    "df_cleaned_filtered_outliers_encoded,mappings = LabelEncode(df_cleaned_filtered_outliers_encoded,'local_authority_highway')\n",
    "df_cleaned_filtered_outliers_encoded.head()"
   ]
  },
  {
   "cell_type": "code",
   "execution_count": null,
   "metadata": {
    "scrolled": true
   },
   "outputs": [],
   "source": [
    "look_up_table = pd.concat([look_up_table,mappings],axis = 0)"
   ]
  },
  {
   "cell_type": "markdown",
   "metadata": {},
   "source": [
    "## ``Encoding first_road_number and second road number``"
   ]
  },
  {
   "cell_type": "markdown",
   "metadata": {},
   "source": [
    "### It was already stated that unclassifed or roads classified as C should have a value of zero. Accordingly, we have chosen to replace these values by the integer value of 0 and not proceed with any forms of encoding as one hot encoding is not an option due to high cardinality and label encoding will only change the semantically meaningful number into ones with no meaning without adding any value."
   ]
  },
  {
   "cell_type": "code",
   "execution_count": null,
   "metadata": {},
   "outputs": [],
   "source": [
    "len(df_cleaned_filtered_outliers_encoded.first_road_number.unique())"
   ]
  },
  {
   "cell_type": "code",
   "execution_count": null,
   "metadata": {
    "scrolled": false
   },
   "outputs": [],
   "source": [
    "df_cleaned_filtered_outliers_encoded = df_cleaned_filtered_outliers_encoded.replace('first_road_class is C or Unclassified. These roads do not have official numbers so recorded as zero ',0)\n",
    "df_cleaned_filtered_outliers_encoded.head()"
   ]
  },
  {
   "cell_type": "markdown",
   "metadata": {},
   "source": [
    "## Since the columns first and second road numbers now only contain integer values, we will convert their type to integers to optimize storage and other operations"
   ]
  },
  {
   "cell_type": "code",
   "execution_count": null,
   "metadata": {},
   "outputs": [],
   "source": [
    "df_cleaned_filtered_outliers_encoded['first_road_number'] = df_cleaned_filtered_outliers_encoded.first_road_number.astype(float)\n",
    "df_cleaned_filtered_outliers_encoded['second_road_number'] = df_cleaned_filtered_outliers_encoded.second_road_number.astype(float)"
   ]
  },
  {
   "cell_type": "markdown",
   "metadata": {},
   "source": [
    "## Since there are floating point numbers such as 4.0, we first had to convert everything to float to unify them and then convert it to int."
   ]
  },
  {
   "cell_type": "code",
   "execution_count": null,
   "metadata": {},
   "outputs": [],
   "source": [
    "df_cleaned_filtered_outliers_encoded['first_road_number'] = df_cleaned_filtered_outliers_encoded.first_road_number.astype(int)\n",
    "df_cleaned_filtered_outliers_encoded['second_road_number'] = df_cleaned_filtered_outliers_encoded.second_road_number.astype(int)"
   ]
  },
  {
   "cell_type": "markdown",
   "metadata": {},
   "source": [
    "## ``Encoding lsoa_of_accident_location``\n",
    "### The lsoa_of_accident_location represents areas. LSOAs in England and Whales divide the map into regions with approximately similar populations. Since knowing which LSOA the accident happened in might be important for the later analysis done on the dataset, it was decided to keep this column. However, it cannot be kept as is and needs to be somehow encoded given its alphanumeric nature. \n",
    "\n",
    "#### For this task, it was decided to use label encoding. This decision was based on the fact that the cardinality of this column is extremely high and thus one-hot encoding cannot be used. Furthermore, although the relationship between the different lsoa regions will be lost, the encoded values will be enough to determine whether two accidents occurred in the same lsoa. To add on, if the actual LSOA region of the accident is needed, the provided CSV look up can always be used.\n"
   ]
  },
  {
   "cell_type": "code",
   "execution_count": null,
   "metadata": {},
   "outputs": [],
   "source": [
    "df_cleaned_filtered_outliers_encoded,mappings = LabelEncode(df_cleaned_filtered_outliers_encoded,'lsoa_of_accident_location')\n",
    "df_cleaned_filtered_outliers_encoded.head()"
   ]
  },
  {
   "cell_type": "code",
   "execution_count": null,
   "metadata": {
    "scrolled": false
   },
   "outputs": [],
   "source": [
    "look_up_table = pd.concat([look_up_table,mappings],axis = 0)"
   ]
  },
  {
   "cell_type": "markdown",
   "metadata": {},
   "source": [
    "## ``Encoding speed_limit``\n",
    "### We have chosen to encode the speed limit attribute as it is categorical in nature, one might think of it as a discretized version of the continous variable speed. Accordingly we will label encode these categories in order to take down thier magnitude as a form of both encoding and feature scaling."
   ]
  },
  {
   "cell_type": "markdown",
   "metadata": {},
   "source": [
    "## The choice of label encoding was based on the inherent ordinality of this attributes, one can easily describe/interpret the ordering realtion between the values of this column."
   ]
  },
  {
   "cell_type": "code",
   "execution_count": null,
   "metadata": {
    "scrolled": true
   },
   "outputs": [],
   "source": [
    "df_cleaned_filtered_outliers_encoded,mappings = LabelEncode(df_cleaned_filtered_outliers_encoded,'speed_limit')\n",
    "df_cleaned_filtered_outliers_encoded.head()"
   ]
  },
  {
   "cell_type": "code",
   "execution_count": null,
   "metadata": {},
   "outputs": [],
   "source": [
    "mappings"
   ]
  },
  {
   "cell_type": "code",
   "execution_count": null,
   "metadata": {
    "scrolled": false
   },
   "outputs": [],
   "source": [
    "look_up_table = pd.concat([look_up_table,mappings],axis = 0)"
   ]
  },
  {
   "cell_type": "code",
   "execution_count": null,
   "metadata": {},
   "outputs": [],
   "source": []
  },
  {
   "cell_type": "markdown",
   "metadata": {},
   "source": [
    "## 4.22 - Findings and conlcusions"
   ]
  },
  {
   "cell_type": "markdown",
   "metadata": {},
   "source": [
    "### Comments on the dataset after encoding"
   ]
  },
  {
   "cell_type": "markdown",
   "metadata": {},
   "source": [
    "### Since one-hot encoding was favored for a multitude of the categorical columns, it is clear that the dimentionality of the dataset has increased. This might make some distance-based alogirthms such as KNN fall under the curse of dimensionality, where their perfomance deteriorates rapidly at higher dimensions. However, we tried to balance between retaining semantic meaning during encoding and perserving low dimensionality as much as possible."
   ]
  },
  {
   "cell_type": "markdown",
   "metadata": {},
   "source": [
    "## While encoding, it was decided to encode each column seperately rather than simply encoding all categorical columns in one loop. This was done to be able to analyze each column seperately and determine the optimal encoding strategy for that column. Furthermore, it also allowed us to analyze the values of the column and make more semantically sound decisions such as deciding which column to drop in the case of one hot encoding."
   ]
  },
  {
   "cell_type": "markdown",
   "metadata": {},
   "source": [
    "## 4.3 - Normalisation "
   ]
  },
  {
   "cell_type": "markdown",
   "metadata": {},
   "source": [
    "## We will visualize the distributions of our numerical variables in order to determine the best normalization strategy. Furthermore, we will also rely on the Shapiro-Wilk Test and the D’Agostino and Pearson’s Test to statistically check for the normality of the distributions"
   ]
  },
  {
   "cell_type": "markdown",
   "metadata": {},
   "source": [
    "## If the distributions are not normal, we cannot use z-score normalization as it assumes the distribution is normal before scaling."
   ]
  },
  {
   "cell_type": "markdown",
   "metadata": {},
   "source": [
    "### After consulting Dr Mervat Abu-Elkheir, we have determined that the latitude and logitude values should not be normalized for  a plethora of reasons. Firstly, the longitude and latitude values as they are are not viable machine learning features and should instead be replaced by features higher up on the concept heirarchy of geolocation (for ex. location_easting_osgr, location_northing_osgr). Secondly, their values are already on the scale 10s between (for ex. longitude is between -7 and 1) which according to professor Andrew NG does not need scaling."
   ]
  },
  {
   "cell_type": "markdown",
   "metadata": {},
   "source": []
  },
  {
   "cell_type": "markdown",
   "metadata": {},
   "source": [
    "# Analyzing how the dataset changed\n",
    "### Naturally, min-max normalization has put these column values between 0 and 1. This would be especially useful for machine learning algorithm to prevent the algorithms from favoring one feature over the other due to its larger scale"
   ]
  },
  {
   "cell_type": "code",
   "execution_count": null,
   "metadata": {},
   "outputs": [],
   "source": [
    "df_cleaned_filtered_outliers_encoded_normalised.describe()"
   ]
  },
  {
   "cell_type": "markdown",
   "metadata": {},
   "source": [
    "## 4.31 - Findings and conclusions"
   ]
  },
  {
   "cell_type": "code",
   "execution_count": null,
   "metadata": {},
   "outputs": [],
   "source": []
  },
  {
   "cell_type": "code",
   "execution_count": null,
   "metadata": {},
   "outputs": [],
   "source": []
  },
  {
   "cell_type": "code",
   "execution_count": null,
   "metadata": {},
   "outputs": [],
   "source": []
  },
  {
   "cell_type": "markdown",
   "metadata": {},
   "source": [
    "## 4.4 - Adding more columns"
   ]
  },
  {
   "cell_type": "code",
   "execution_count": null,
   "metadata": {},
   "outputs": [],
   "source": [
    "df_cleaned_filtered_outliers_encoded_normalised_augmented = df_cleaned_filtered_outliers_encoded.copy()"
   ]
  },
  {
   "cell_type": "markdown",
   "metadata": {},
   "source": [
    "## Exploring whether more accidents happen on the weekend is an interesting phenomenon. Adding a new column called is_Weekend will help in exploring and calculating the correlation."
   ]
  },
  {
   "cell_type": "code",
   "execution_count": null,
   "metadata": {
    "scrolled": false
   },
   "outputs": [],
   "source": [
    "df_cleaned_filtered_outliers_encoded_normalised_augmented['is_Weekend'] = (df_cleaned_filtered_outliers_encoded_normalised_augmented['day_of_week_Saturday'] == 1) | (df_cleaned_filtered_outliers_encoded_normalised_augmented['day_of_week_Sunday'] == 1)\n",
    "df_cleaned_filtered_outliers_encoded_normalised_augmented['is_Weekend'] = df_cleaned_filtered_outliers_encoded_normalised_augmented['is_Weekend'].astype(int)\n",
    "df_cleaned_filtered_outliers_encoded_normalised_augmented.head()"
   ]
  },
  {
   "cell_type": "markdown",
   "metadata": {},
   "source": [
    "## Driving in complete darkness during the rain is challenging. Its correlation with the number of accidents could be an intriguing statistic. Hence, the correlation of number of accidents with the is_Dark_and_Raining indicator could be useful to study and measure."
   ]
  },
  {
   "cell_type": "code",
   "execution_count": null,
   "metadata": {
    "scrolled": true
   },
   "outputs": [],
   "source": [
    "df_cleaned_filtered_outliers_encoded_normalised_augmented['is_Dark_and_Raining'] = ((df_cleaned_filtered_outliers_encoded_normalised_augmented['weather_conditions_Raining + high winds'] == 1)\\\n",
    "                                                                           | (df_cleaned_filtered_outliers_encoded_normalised_augmented['weather_conditions_Raining no high winds'] == 1))\\\n",
    "                                                                            & ((df_cleaned_filtered_outliers_encoded_normalised_augmented['light_conditions_Darkness - lights unlit'] == 1) \\\n",
    "                                                                              | (df_cleaned_filtered_outliers_encoded_normalised_augmented['light_conditions_Darkness - no lighting'] == 1))\n",
    "df_cleaned_filtered_outliers_encoded_normalised_augmented['is_Weekend'] = df_cleaned_filtered_outliers_encoded_normalised_augmented['is_Weekend'].astype(int)\n",
    "df_cleaned_filtered_outliers_encoded_normalised_augmented.head()"
   ]
  },
  {
   "cell_type": "code",
   "execution_count": null,
   "metadata": {},
   "outputs": [],
   "source": []
  },
  {
   "cell_type": "code",
   "execution_count": null,
   "metadata": {},
   "outputs": [],
   "source": [
    "df_cleaned_filtered_outliers_encoded_normalised_augmented.head(15)"
   ]
  },
  {
   "cell_type": "code",
   "execution_count": null,
   "metadata": {},
   "outputs": [],
   "source": []
  },
  {
   "cell_type": "markdown",
   "metadata": {},
   "source": [
    "## 4.41 - Findings and concluisons"
   ]
  },
  {
   "cell_type": "code",
   "execution_count": null,
   "metadata": {},
   "outputs": [],
   "source": []
  },
  {
   "cell_type": "markdown",
   "metadata": {},
   "source": [
    "## 4.5 - Csv file for lookup"
   ]
  },
  {
   "cell_type": "code",
   "execution_count": null,
   "metadata": {},
   "outputs": [],
   "source": [
    "look_up_table.head(30)"
   ]
  },
  {
   "cell_type": "code",
   "execution_count": null,
   "metadata": {},
   "outputs": [],
   "source": [
    "look_up_table.to_csv('Final_Output.csv',index=False)"
   ]
  },
  {
   "cell_type": "code",
   "execution_count": null,
   "metadata": {},
   "outputs": [],
   "source": []
  },
  {
   "cell_type": "markdown",
   "metadata": {},
   "source": [
    "## 5- Exporting the dataframe to a csv file or parquet"
   ]
  },
  {
   "cell_type": "code",
   "execution_count": null,
   "metadata": {},
   "outputs": [],
   "source": [
    "df_cleaned_filtered_outliers_encoded_normalised_augmented.to_csv('Final_Output.zip',index=False)"
   ]
  },
  {
   "cell_type": "code",
   "execution_count": null,
   "metadata": {
    "scrolled": false
   },
   "outputs": [],
   "source": [
    "df_cleaned_filtered_outliers_encoded_normalised_augmented.to_parquet('df.Final_Output.gzip',compression='gzip',index = False)"
   ]
  },
  {
   "cell_type": "code",
   "execution_count": null,
   "metadata": {},
   "outputs": [],
   "source": []
  },
  {
   "cell_type": "code",
   "execution_count": null,
   "metadata": {},
   "outputs": [],
   "source": []
  }
 ],
 "metadata": {
  "kernelspec": {
   "display_name": "Python 3 (ipykernel)",
   "language": "python",
   "name": "python3"
  },
  "language_info": {
   "codemirror_mode": {
    "name": "ipython",
    "version": 3
   },
   "file_extension": ".py",
   "mimetype": "text/x-python",
   "name": "python",
   "nbconvert_exporter": "python",
   "pygments_lexer": "ipython3",
   "version": "3.9.15"
  }
 },
 "nbformat": 4,
 "nbformat_minor": 4
}
